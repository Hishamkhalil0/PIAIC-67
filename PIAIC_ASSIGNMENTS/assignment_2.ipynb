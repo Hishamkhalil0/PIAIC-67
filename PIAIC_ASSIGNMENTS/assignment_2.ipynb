{
  "cells": [
    {
      "cell_type": "markdown",
      "source": [
        "HISHAM KHALIL\\\n",
        "PIAIC252246\\\n",
        "ASSIGNMENT 2\\\n",
        "WEEK 3"
      ],
      "metadata": {
        "id": "EsZcyY4v38No"
      }
    },
    {
      "cell_type": "code",
      "execution_count": null,
      "metadata": {
        "colab": {
          "base_uri": "https://localhost:8080/"
        },
        "id": "60poEcjfqCdR",
        "outputId": "b16da08f-88ef-4850-8ceb-6a3931432033"
      },
      "outputs": [
        {
          "output_type": "stream",
          "name": "stdout",
          "text": [
            "Hiiiii.....THIS IS MY 3RD WEEK OF LEARNING PYTHON ... \n",
            "ASSIGNMENT 2..\n",
            "WEEK 3\n",
            "HISHAM KHALIL\n",
            "18\n",
            "OKARA\n",
            "5.8\n",
            "CAT\n",
            "BIKE RIDING\n",
            "HISHAM KHALIL 18 OKARA 5.8 CAT BIKE RIDING\n",
            "My name is  HISHAM KHALIL \n",
            "I am  18 years old \n",
            "I live in  OKARA \n",
            "My favourite animal is CAT\n",
            "My name is  HISHAM KHALIL . I am  18 years old . I live in  OKARA . My hobby is  BIKE RIDING\n"
          ]
        }
      ],
      "source": [
        "\n",
        "\n",
        "# TOPIC:  VARIABLES\n",
        "\n",
        "\n",
        "print(\"Hiiiii.....THIS IS MY 3RD WEEK OF LEARNING PYTHON ... \\nASSIGNMENT 2..\\nWEEK 3\")\n",
        "\n",
        "name:str=\"HISHAM KHALIL\"\n",
        "age:int=18\n",
        "city:str='OKARA'\n",
        "height:float=5.8\n",
        "fav_animal:str=\"CAT\"\n",
        "hobby:str=\"BIKE RIDING\"\n",
        "print(name)\n",
        "print(age)\n",
        "print(city)\n",
        "print(height)\n",
        "print(fav_animal)\n",
        "print(hobby)\n",
        "print(name, age, city, height, fav_animal, hobby)\n",
        "print(\"My name is \", name , '\\n' \"I am \", age ,\"years old\",'\\n' \"I live in \", city ,'\\n' \"My favourite animal is\", fav_animal)\n",
        "print(\"My name is \", name ,  \". I am \", age ,\"years old\", \". I live in \", city , \". My hobby is \", hobby )"
      ]
    },
    {
      "cell_type": "code",
      "execution_count": null,
      "metadata": {
        "id": "5e1klH8kqUs9",
        "colab": {
          "base_uri": "https://localhost:8080/"
        },
        "outputId": "346efccd-7b9a-44ae-c404-8a23dd909196"
      },
      "outputs": [
        {
          "output_type": "stream",
          "name": "stdout",
          "text": [
            "Enter 1st number :423\n",
            "Enter 2st number :34\n",
            "SUM = 457\n",
            "DIFFERENCE = 389\n",
            "PRODUCT = 14382\n",
            "DIVISION = 12.441176470588236\n",
            "REMAINDER = 15\n"
          ]
        }
      ],
      "source": [
        "# ADDITIONAL TASK\n",
        "\n",
        "a:int=int(input(\"Enter 1st number :\"))\n",
        "b:int=int(input(\"Enter 2st number :\"))\n",
        "SUM = a+b\n",
        "DIFFERENCE = a-b\n",
        "PRODUCT= a*b\n",
        "DIVISION = a/b\n",
        "REMAINDER = a%b\n",
        "print(\"SUM =\",SUM)\n",
        "print(\"DIFFERENCE =\",DIFFERENCE)\n",
        "print(\"PRODUCT =\",PRODUCT)\n",
        "print(\"DIVISION =\",DIVISION)\n",
        "print(\"REMAINDER =\",REMAINDER)\n"
      ]
    },
    {
      "cell_type": "code",
      "execution_count": null,
      "metadata": {
        "id": "CX7je718tvpT"
      },
      "outputs": [],
      "source": [
        "   #  DISCLAIMER\n",
        "\n",
        "# I AMM WATCHINGGG YOOOOU KAAAAAAAAAAAAVIIIIII\n",
        "\n",
        "\n",
        "\n",
        "\n"
      ]
    }
  ],
  "metadata": {
    "colab": {
      "provenance": []
    },
    "kernelspec": {
      "display_name": "Python 3",
      "name": "python3"
    },
    "language_info": {
      "name": "python"
    }
  },
  "nbformat": 4,
  "nbformat_minor": 0
}