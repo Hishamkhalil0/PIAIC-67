{
  "cells": [
    {
      "cell_type": "markdown",
      "metadata": {
        "id": "fZmKLZ6VLcIt"
      },
      "source": [
        "# **EXERCISE 3.1**"
      ]
    },
    {
      "cell_type": "code",
      "execution_count": 1,
      "metadata": {
        "colab": {
          "base_uri": "https://localhost:8080/"
        },
        "id": "V1WfeUPqLths",
        "outputId": "81ff78df-6a08-4d96-e218-1ad72d21e434"
      },
      "outputs": [
        {
          "name": "stdout",
          "output_type": "stream",
          "text": [
            "Hisham\n",
            "Ibtsam\n",
            "Ali\n"
          ]
        }
      ],
      "source": [
        "names = [\"Hisham\",\"Ibtsam\",\"Ali\"]\n",
        "\n",
        "# printing 1 by 1\n",
        "print(names[0])\n",
        "print(names[1])\n",
        "print(names[2])"
      ]
    },
    {
      "cell_type": "markdown",
      "metadata": {
        "id": "Q3-7ehTJM3yW"
      },
      "source": [
        "# **EXERCISE 3.2**"
      ]
    },
    {
      "cell_type": "code",
      "execution_count": 2,
      "metadata": {
        "colab": {
          "base_uri": "https://localhost:8080/"
        },
        "id": "poYGzDiWLR9S",
        "outputId": "59edf178-f39f-42d9-9981-78e90fbb33f3"
      },
      "outputs": [
        {
          "name": "stdout",
          "output_type": "stream",
          "text": [
            "Happy New Year Hisham\n",
            "Happy New Year Ibtsam\n",
            "Happy New Year Ali\n"
          ]
        }
      ],
      "source": [
        "message = \"Happy New Year\"\n",
        "print(message, names[0])\n",
        "print(message, names[1])\n",
        "print(message, names[2])\n"
      ]
    },
    {
      "cell_type": "markdown",
      "metadata": {
        "id": "aJr4TxdKQfPr"
      },
      "source": [
        "# **EXERCISE 3.3**"
      ]
    },
    {
      "cell_type": "code",
      "execution_count": 3,
      "metadata": {
        "colab": {
          "base_uri": "https://localhost:8080/"
        },
        "id": "vpxi7nNzOfp3",
        "outputId": "3c1e0b77-c117-42b0-a66d-d07c5b66f145"
      },
      "outputs": [
        {
          "name": "stdout",
          "output_type": "stream",
          "text": [
            "I would like to own a Kawasaki Ninja H2 motorcycle.\n",
            "I would like to own a BMW 1000RR motorcycle.\n",
            "I would like to own a Mercedes-Benz car.\n",
            "I would like to own a Lamborghini Urus.\n"
          ]
        }
      ],
      "source": [
        "vehicles = [\"Kawasaki Ninja H2\", \"BMW 1000RR\", \"Mercedes-Benz\", \"Lamborghini Urus\"]\n",
        "\n",
        "print(\"I would like to own a \" + vehicles[0] + \" motorcycle.\")\n",
        "print(\"I would like to own a \" + vehicles[1] + \" motorcycle.\")\n",
        "print(\"I would like to own a \" + vehicles[2] + \" car.\")\n",
        "print(\"I would like to own a \" + vehicles[3] + \".\")"
      ]
    },
    {
      "cell_type": "markdown",
      "metadata": {
        "id": "3RzG523OW5xF"
      },
      "source": [
        "# **EXERCISE 3.4**"
      ]
    },
    {
      "cell_type": "code",
      "execution_count": 4,
      "metadata": {
        "id": "lmZZlDexceEu"
      },
      "outputs": [
        {
          "name": "stdout",
          "output_type": "stream",
          "text": [
            "\n",
            "sending them invitation message.......\n",
            "\n",
            "Dear hisham, you are cordially invited to dinner.\n",
            "Dear khalil,  you are cordially invited to dinner.\n",
            "Dear ibtsam,  you are cordially invited to dinner.\n",
            "['hisham', 'khalil', 'ibtsam']\n"
          ]
        }
      ],
      "source": [
        "guests = []\n",
        "\n",
        "guests.append(input(\"Enter 1st guest name you want to invite: \"))\n",
        "guests.append(input(\"Enter 2nd guest name you want to invite: \"))\n",
        "guests.append(input(\"Enter 3rd guest name you want to invite: \"))\n",
        "print()\n",
        "print(\"sending them invitation message.......\")\n",
        "print()\n",
        "print(\"Dear \" + guests[0] + \", you are cordially invited to dinner.\")\n",
        "print(\"Dear \" + guests[1] + \",  you are cordially invited to dinner.\")\n",
        "print(\"Dear \" + guests[2] + \",  you are cordially invited to dinner.\")\n",
        "\n",
        "print(guests)"
      ]
    },
    {
      "cell_type": "markdown",
      "metadata": {
        "id": "GZgFpPjYcaSq"
      },
      "source": [
        "# **EXERCISE 3.5**"
      ]
    },
    {
      "cell_type": "code",
      "execution_count": 5,
      "metadata": {
        "id": "LOPduykjWrmo"
      },
      "outputs": [
        {
          "name": "stdout",
          "output_type": "stream",
          "text": [
            "\n",
            "\n",
            "hisham is removed from the invitaions list\n",
            "updated invitations list.....\n",
            "\n",
            "Dear sandy, you are cordially invited to dinner.\n",
            "Dear khalil,  you are cordially invited to dinner.\n",
            "Dear ibtsam,  you are cordially invited to dinner.\n",
            "\n",
            "hisham cant join us\n",
            "['sandy', 'khalil', 'ibtsam']\n"
          ]
        }
      ],
      "source": [
        "\n",
        "unable_to_attend= input(\"The guest who cant attend dinner: \")\n",
        "print()\n",
        "\n",
        "unable_guest_index= guests.index(unable_to_attend)\n",
        "guests[unable_guest_index]= input(\"Enter new guest name: \")\n",
        "print()\n",
        "print(f\"{unable_to_attend} is removed from the invitaions list\")\n",
        "print(\"updated invitations list.....\")\n",
        "print()\n",
        "\n",
        "print(\"Dear \" + guests[0] + \", you are cordially invited to dinner.\")\n",
        "print(\"Dear \" + guests[1] + \",  you are cordially invited to dinner.\")\n",
        "print(\"Dear \" + guests[2] + \",  you are cordially invited to dinner.\")\n",
        "print()\n",
        "\n",
        "print(unable_to_attend, \"cant join us\")\n",
        "print(guests)"
      ]
    },
    {
      "cell_type": "markdown",
      "metadata": {
        "id": "hQuR-POperV4"
      },
      "source": [
        "# **EXERCISE 3.6**"
      ]
    },
    {
      "cell_type": "code",
      "execution_count": 6,
      "metadata": {
        "colab": {
          "base_uri": "https://localhost:8080/"
        },
        "id": "UZYSQW45ewWz",
        "outputId": "1af407cd-5c07-4267-934a-ee6eab33b695"
      },
      "outputs": [
        {
          "name": "stdout",
          "output_type": "stream",
          "text": [
            "we have 3 seats available so you can ivt more guests\n",
            "\n",
            "new guests you are inviting\n",
            "\n",
            "['maryam', 'sandy', 'fizza', 'khalil', 'ibtsam', 'najma']\n",
            "Dear maryam, you are cordially invited to dinner.\n",
            "Dear sandy,  you are cordially invited to dinner.\n",
            "Dear fizza,  you are cordially invited to dinner.\n",
            "Dear khalil,  you are cordially invited to dinner.\n",
            "Dear ibtsam,  you are cordially invited to dinner.\n",
            "Dear najma,  you are cordially invited to dinner.\n",
            "['maryam', 'sandy', 'fizza', 'khalil', 'ibtsam', 'najma']\n"
          ]
        }
      ],
      "source": [
        "print(\"we have 3 seats available so you can ivt more guests\")\n",
        "print()\n",
        "\n",
        "print(\"new guests you are inviting\")\n",
        "guests.insert(0, input(\"Enter 1st guest name you want to invite: \"))\n",
        "\n",
        "# we want to add this name in the middle of the list [guests]\n",
        "middle_index_of_list = len(guests)//2\n",
        "guests.insert(middle_index_of_list, input(\"Enter 2nd guest name you want to invite: \"))\n",
        "\n",
        "guests.append(input(\"Enter 3rd guest name you want to invite: \"))\n",
        "print()\n",
        "print(guests)\n",
        "\n",
        "print(\"Dear \" + guests[0] + \", you are cordially invited to dinner.\")\n",
        "print(\"Dear \" + guests[1] + \",  you are cordially invited to dinner.\")\n",
        "print(\"Dear \" + guests[2] + \",  you are cordially invited to dinner.\")\n",
        "print(\"Dear \" + guests[3] + \",  you are cordially invited to dinner.\")\n",
        "print(\"Dear \" + guests[4] + \",  you are cordially invited to dinner.\")\n",
        "print(\"Dear \" + guests[5] + \",  you are cordially invited to dinner.\")\n",
        "\n",
        "print(guests)"
      ]
    },
    {
      "cell_type": "markdown",
      "metadata": {
        "id": "xARau9Qzo6Kc"
      },
      "source": [
        "# **EXERCISE 3.7**"
      ]
    },
    {
      "cell_type": "code",
      "execution_count": 7,
      "metadata": {
        "colab": {
          "base_uri": "https://localhost:8080/",
          "height": 245
        },
        "id": "tqdLIGIopAsD",
        "outputId": "e6f54265-b953-4767-f89e-5e77df137dff"
      },
      "outputs": [
        {
          "name": "stdout",
          "output_type": "stream",
          "text": [
            "you can invite only two people for dinner.\n",
            "shrink your list\n",
            "maryam, sorry you cant attend our party\n",
            "\n",
            "sandy, sorry you cant attend our party\n",
            "\n",
            "fizza, sorry you cant attend our party\n",
            "\n",
            "khalil, sorry you cant attend our party\n",
            "\n",
            "ibtsam, you are still invited\n",
            "najma, you are still invited\n",
            "\n",
            "[]\n"
          ]
        }
      ],
      "source": [
        "print(\"you can invite only two people for dinner.\")\n",
        "print(\"shrink your list\")\n",
        "\n",
        "print(f\"{guests[0]}, sorry you cant attend our party\")\n",
        "guests.pop(0)\n",
        "print()\n",
        "\n",
        "print(f\"{guests[0]}, sorry you cant attend our party\")\n",
        "guests.pop(0)\n",
        "print()\n",
        "\n",
        "print(f\"{guests[0]}, sorry you cant attend our party\")\n",
        "guests.pop(0)\n",
        "print()\n",
        "\n",
        "print(f\"{guests[0]}, sorry you cant attend our party\")\n",
        "guests.pop(0)\n",
        "print()\n",
        "print(f\"{guests[0]}, you are still invited\")\n",
        "print(f\"{guests[1]}, you are still invited\")\n",
        "print()\n",
        "\n",
        "del guests[0]\n",
        "del guests[0]\n",
        "print(guests)\n",
        "\n"
      ]
    },
    {
      "cell_type": "code",
      "execution_count": 8,
      "metadata": {
        "id": "AGyK3WKypHrM"
      },
      "outputs": [
        {
          "name": "stdout",
          "output_type": "stream",
          "text": [
            "\n",
            "sending them invitation message.......\n",
            "\n",
            "Dear hisham, you are cordially invited to dinner.\n",
            "Dear khalil,  you are cordially invited to dinner.\n",
            "Dear ibtsam,  you are cordially invited to dinner.\n",
            "['hisham', 'khalil', 'ibtsam']\n",
            "\n",
            "\n",
            "hisham is removed from the invitaions list\n",
            "updated invitations list.....\n",
            "\n",
            "Dear maryam, you are cordially invited to dinner.\n",
            "Dear khalil,  you are cordially invited to dinner.\n",
            "Dear ibtsam,  you are cordially invited to dinner.\n",
            "\n",
            "hisham cant join us\n",
            "['maryam', 'khalil', 'ibtsam']\n",
            "we have 3 seats available so you can ivt more guests\n",
            "\n",
            "new guests you are inviting\n",
            "\n",
            "['fizza', 'maryam', 'sandy', 'khalil', 'ibtsam', 'najma']\n",
            "Dear fizza, you are cordially invited to dinner.\n",
            "Dear maryam,  you are cordially invited to dinner.\n",
            "Dear sandy,  you are cordially invited to dinner.\n",
            "Dear khalil,  you are cordially invited to dinner.\n",
            "Dear ibtsam,  you are cordially invited to dinner.\n",
            "Dear najma,  you are cordially invited to dinner.\n",
            "['fizza', 'maryam', 'sandy', 'khalil', 'ibtsam', 'najma']\n",
            "you can invite only two people for dinner.\n",
            "shrink your list\n",
            "fizza, sorry you cant attend our party\n",
            "\n",
            "maryam, sorry you cant attend our party\n",
            "\n",
            "sandy, sorry you cant attend our party\n",
            "\n",
            "khalil, sorry you cant attend our party\n",
            "\n",
            "ibtsam, you are still invited\n",
            "najma, you are still invited\n",
            "\n",
            "[]\n"
          ]
        }
      ],
      "source": [
        "# EXERCISE 3.4\n",
        "\n",
        "\n",
        "guests = []\n",
        "\n",
        "guests.append(input(\"Enter 1st guest name you want to invite: \"))\n",
        "guests.append(input(\"Enter 2nd guest name you want to invite: \"))\n",
        "guests.append(input(\"Enter 3rd guest name you want to invite: \"))\n",
        "print()\n",
        "print(\"sending them invitation message.......\")\n",
        "print()\n",
        "print(\"Dear \" + guests[0] + \", you are cordially invited to dinner.\")\n",
        "print(\"Dear \" + guests[1] + \",  you are cordially invited to dinner.\")\n",
        "print(\"Dear \" + guests[2] + \",  you are cordially invited to dinner.\")\n",
        "\n",
        "print(guests)\n",
        "\n",
        "# exercise 3.5\n",
        "\n",
        "unable_to_attend= input(\"The guest who cant attend dinner: \")\n",
        "print()\n",
        "\n",
        "unable_guest_index= guests.index(unable_to_attend)\n",
        "guests[unable_guest_index]= input(\"Enter new guest name: \")\n",
        "print()\n",
        "print(f\"{unable_to_attend} is removed from the invitaions list\")\n",
        "print(\"updated invitations list.....\")\n",
        "print()\n",
        "\n",
        "print(\"Dear \" + guests[0] + \", you are cordially invited to dinner.\")\n",
        "print(\"Dear \" + guests[1] + \",  you are cordially invited to dinner.\")\n",
        "print(\"Dear \" + guests[2] + \",  you are cordially invited to dinner.\")\n",
        "print()\n",
        "\n",
        "print(unable_to_attend, \"cant join us\")\n",
        "print(guests)\n",
        "\n",
        "# EXERCISE 3.6\n",
        "\n",
        "print(\"we have 3 seats available so you can ivt more guests\")\n",
        "print()\n",
        "\n",
        "print(\"new guests you are inviting\")\n",
        "guests.insert(0, input(\"Enter 1st guest name you want to invite: \"))\n",
        "\n",
        "# we want to add this name in the middle of the list [guests]\n",
        "middle_index_of_list = len(guests)//2\n",
        "guests.insert(middle_index_of_list, input(\"Enter 2nd guest name you want to invite: \"))\n",
        "\n",
        "guests.append(input(\"Enter 3rd guest name you want to invite: \"))\n",
        "print()\n",
        "print(guests)\n",
        "\n",
        "print(\"Dear \" + guests[0] + \", you are cordially invited to dinner.\")\n",
        "print(\"Dear \" + guests[1] + \",  you are cordially invited to dinner.\")\n",
        "print(\"Dear \" + guests[2] + \",  you are cordially invited to dinner.\")\n",
        "print(\"Dear \" + guests[3] + \",  you are cordially invited to dinner.\")\n",
        "print(\"Dear \" + guests[4] + \",  you are cordially invited to dinner.\")\n",
        "print(\"Dear \" + guests[5] + \",  you are cordially invited to dinner.\")\n",
        "\n",
        "print(guests)\n",
        "\n",
        "# EXERCISE 3.7\n",
        "\n",
        "print(\"you can invite only two people for dinner.\")\n",
        "print(\"shrink your list\")\n",
        "\n",
        "print(f\"{guests[0]}, sorry you cant attend our party\")\n",
        "guests.pop(0)\n",
        "print()\n",
        "\n",
        "print(f\"{guests[0]}, sorry you cant attend our party\")\n",
        "guests.pop(0)\n",
        "print()\n",
        "\n",
        "print(f\"{guests[0]}, sorry you cant attend our party\")\n",
        "guests.pop(0)\n",
        "print()\n",
        "\n",
        "print(f\"{guests[0]}, sorry you cant attend our party\")\n",
        "guests.pop(0)\n",
        "print()\n",
        "print(f\"{guests[0]}, you are still invited\")\n",
        "print(f\"{guests[1]}, you are still invited\")\n",
        "print()\n",
        "\n",
        "del guests[0]\n",
        "del guests[0]\n",
        "print(guests)\n"
      ]
    },
    {
      "cell_type": "markdown",
      "metadata": {
        "id": "6FgrqoFPOyaW"
      },
      "source": [
        "# **EXERCISE 3.8**"
      ]
    },
    {
      "cell_type": "code",
      "execution_count": 9,
      "metadata": {
        "colab": {
          "base_uri": "https://localhost:8080/"
        },
        "id": "glg2nx7fO23g",
        "outputId": "a7b42401-c99c-48ce-f8dd-61eac1500ab9"
      },
      "outputs": [
        {
          "name": "stdout",
          "output_type": "stream",
          "text": [
            "original list:\n",
            " ['lahore', 'okara', 'adelaide', 'mumbai', 'dhaka']\n",
            "\n",
            "sorted list: \n",
            "['adelaide', 'dhaka', 'lahore', 'mumbai', 'okara']\n",
            "\n",
            "reverse sorted list: \n",
            "['okara', 'mumbai', 'lahore', 'dhaka', 'adelaide']\n",
            "original list:\n",
            " ['lahore', 'okara', 'adelaide', 'mumbai', 'dhaka']\n",
            "\n",
            "reverse list 1: \n",
            "['dhaka', 'mumbai', 'adelaide', 'okara', 'lahore']\n",
            "\n",
            "reverse list 2: \n",
            "['lahore', 'okara', 'adelaide', 'mumbai', 'dhaka']\n",
            "\n",
            "sorted list: \n",
            "['adelaide', 'dhaka', 'lahore', 'mumbai', 'okara']\n",
            "\n",
            "reverse sorted list: \n",
            "['okara', 'mumbai', 'lahore', 'dhaka', 'adelaide']\n",
            "\n"
          ]
        }
      ],
      "source": [
        "locations = [\"lahore\",\"okara\",\"adelaide\",\"mumbai\",\"dhaka\"]\n",
        "print(f\"original list:\\n {locations}\")\n",
        "print()\n",
        "\n",
        "print(f\"sorted list: \\n{sorted(locations)}\")\n",
        "print()\n",
        "\n",
        "print(f\"reverse sorted list: \\n{sorted(locations, reverse=True)}\")\n",
        "\n",
        "print(f\"original list:\\n {locations}\")\n",
        "print()\n",
        "\n",
        "locations.reverse()\n",
        "print(f\"reverse list 1: \\n{locations}\")\n",
        "print()\n",
        "\n",
        "locations.reverse()\n",
        "print(f\"reverse list 2: \\n{locations}\")\n",
        "print()\n",
        "\n",
        "locations.sort()\n",
        "print(f\"sorted list: \\n{locations}\")\n",
        "print()\n",
        "\n",
        "locations.sort(reverse=True)\n",
        "print(f\"reverse sorted list: \\n{locations}\")\n",
        "print()"
      ]
    },
    {
      "cell_type": "code",
      "execution_count": null,
      "metadata": {
        "id": "rJgAYd9EPT9v"
      },
      "outputs": [],
      "source": []
    },
    {
      "cell_type": "markdown",
      "metadata": {
        "id": "RMABk8CtTlVF"
      },
      "source": [
        "# **EXERCISE 3.9**"
      ]
    },
    {
      "cell_type": "code",
      "execution_count": 10,
      "metadata": {
        "colab": {
          "base_uri": "https://localhost:8080/"
        },
        "id": "PkIAo5K3TopN",
        "outputId": "fa3d2cd9-d809-455d-cc7f-e5e9102772d8"
      },
      "outputs": [
        {
          "name": "stdout",
          "output_type": "stream",
          "text": [
            "\n",
            "sending them invitation message.......\n",
            "\n",
            "Dear hisham, you are cordially invited to dinner.\n",
            "Dear khalil,  you are cordially invited to dinner.\n",
            "Dear ibtsam,  you are cordially invited to dinner.\n",
            "3 guests are invited on party\n"
          ]
        }
      ],
      "source": [
        "guests = []\n",
        "\n",
        "guests.append(input(\"Enter 1st guest name you want to invite: \"))\n",
        "guests.append(input(\"Enter 2nd guest name you want to invite: \"))\n",
        "guests.append(input(\"Enter 3rd guest name you want to invite: \"))\n",
        "print()\n",
        "print(\"sending them invitation message.......\")\n",
        "print()\n",
        "print(\"Dear \" + guests[0] + \", you are cordially invited to dinner.\")\n",
        "print(\"Dear \" + guests[1] + \",  you are cordially invited to dinner.\")\n",
        "print(\"Dear \" + guests[2] + \",  you are cordially invited to dinner.\")\n",
        "\n",
        "print(f\"{len(guests)} guests are invited on party\")\n"
      ]
    },
    {
      "cell_type": "markdown",
      "metadata": {
        "id": "HWscb0DWUGUJ"
      },
      "source": [
        "# **EXERCISE 3.10**"
      ]
    },
    {
      "cell_type": "code",
      "execution_count": 11,
      "metadata": {
        "colab": {
          "base_uri": "https://localhost:8080/"
        },
        "id": "RXTFkfi1ULR8",
        "outputId": "d33455eb-95b6-4206-d79d-c3727a7902b3"
      },
      "outputs": [
        {
          "name": "stdout",
          "output_type": "stream",
          "text": [
            "x:  ['mount everest', 'Ravi', 'Pakistan', 'Okara', 'Urdu']\n",
            "append:  ['mount everest', 'Ravi', 'Pakistan', 'Okara', 'Urdu', 'artificial intelligence']\n",
            "insert:  ['robotics', 'mount everest', 'Ravi', 'Pakistan', 'Okara', 'Urdu', 'artificial intelligence']\n",
            "remove:  ['robotics', 'Ravi', 'Pakistan', 'Okara', 'Urdu', 'artificial intelligence']\n",
            "pop:  ['robotics', 'Pakistan', 'Okara', 'Urdu', 'artificial intelligence']\n",
            "sort:  ['Okara', 'Pakistan', 'Urdu', 'artificial intelligence', 'robotics']\n",
            "sorted:  ['Okara', 'Pakistan', 'Urdu', 'artificial intelligence', 'robotics']\n",
            "sort reverse:  ['robotics', 'artificial intelligence', 'Urdu', 'Pakistan', 'Okara']\n",
            "reverse:  ['Okara', 'Pakistan', 'Urdu', 'artificial intelligence', 'robotics']\n",
            "length of list:  5\n",
            "del:  ['Pakistan', 'Urdu', 'artificial intelligence', 'robotics']\n",
            "index of Urdu:  1\n"
          ]
        }
      ],
      "source": [
        "x = [\"mount everest\",\"Ravi\",\"Pakistan\",\"Okara\",\"Urdu\"]\n",
        "print(f\"x: \", x)\n",
        "\n",
        "x.append(\"artificial intelligence\")\n",
        "print(f\"append: \", x)\n",
        "\n",
        "x.insert(0, \"robotics\")\n",
        "print(f\"insert: \", x)\n",
        "\n",
        "x.remove(\"mount everest\")\n",
        "print(f\"remove: \", x)\n",
        "\n",
        "x.pop(1)\n",
        "print(f\"pop: \", x)\n",
        "\n",
        "x.sort()\n",
        "print(f\"sort: \", x)\n",
        "\n",
        "print(f\"sorted: \",sorted(x))\n",
        "\n",
        "x.sort(reverse=True)\n",
        "print(f\"sort reverse: \", x)\n",
        "\n",
        "x.reverse()\n",
        "print(f\"reverse: \", x)\n",
        "\n",
        "print(f\"length of list: \", len(x))\n",
        "\n",
        "del x[0]\n",
        "print(f\"del: \", x)\n",
        "\n",
        "print(f\"index of Urdu: \", x.index(\"Urdu\"))\n"
      ]
    },
    {
      "cell_type": "code",
      "execution_count": null,
      "metadata": {
        "id": "BGuAVcsUL1Vb"
      },
      "outputs": [],
      "source": []
    },
    {
      "cell_type": "markdown",
      "metadata": {
        "id": "Xqfcy1kCN8T7"
      },
      "source": [
        "# **EXERCISE 3.11**"
      ]
    },
    {
      "cell_type": "code",
      "execution_count": 12,
      "metadata": {
        "colab": {
          "base_uri": "https://localhost:8080/"
        },
        "id": "Tb18eEVYN_BK",
        "outputId": "e27e3d84-0810-4c23-e13c-f08e583932d7"
      },
      "outputs": [
        {
          "name": "stdout",
          "output_type": "stream",
          "text": [
            "correct statement:\n",
            "  My name is Hisham Khalil\n",
            "statement with index mistake:\n",
            " My name is Khalil True\n",
            "corrected statement:\n",
            "  My name is Hisham Khalil \n"
          ]
        }
      ],
      "source": [
        "list1 = [\"name\", \"Hisham\", \"Khalil\", True]\n",
        "print(f\"correct statement:\\n  My name is {list1[1]} {list1[2]}\")\n",
        "\n",
        "list1.remove(\"name\")\n",
        "print(f\"statement with index mistake:\\n My name is {list1[1]} {list1[2]}\")\n",
        "\n",
        "list1.insert(0, \"intro\")\n",
        "print(f\"corrected statement:\\n  My name is {list1[1]} {list1[2]} \")"
      ]
    },
    {
      "cell_type": "code",
      "execution_count": null,
      "metadata": {
        "id": "zmKnAaXeORUw"
      },
      "outputs": [],
      "source": []
    }
  ],
  "metadata": {
    "colab": {
      "collapsed_sections": [
        "fZmKLZ6VLcIt",
        "Q3-7ehTJM3yW",
        "aJr4TxdKQfPr",
        "GZgFpPjYcaSq",
        "hQuR-POperV4",
        "xARau9Qzo6Kc",
        "6FgrqoFPOyaW",
        "RMABk8CtTlVF"
      ],
      "provenance": []
    },
    "kernelspec": {
      "display_name": "Python 3",
      "name": "python3"
    },
    "language_info": {
      "codemirror_mode": {
        "name": "ipython",
        "version": 3
      },
      "file_extension": ".py",
      "mimetype": "text/x-python",
      "name": "python",
      "nbconvert_exporter": "python",
      "pygments_lexer": "ipython3",
      "version": "3.13.1"
    }
  },
  "nbformat": 4,
  "nbformat_minor": 0
}
