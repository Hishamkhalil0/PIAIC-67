{
 "cells": [
  {
   "cell_type": "markdown",
   "metadata": {},
   "source": [
    "HISHAM KHALIL\\\n",
    "PIAIC252246\\\n",
    "ASSIGNMENT 4"
   ]
  },
  {
   "cell_type": "markdown",
   "metadata": {},
   "source": [
    "EXERCISE 3.1"
   ]
  },
  {
   "cell_type": "code",
   "execution_count": null,
   "metadata": {},
   "outputs": [],
   "source": [
    "names = [\"Hisham\",\"Ibtsam\",\"Ali\"]\n",
    "print(names[0])\n",
    "print(names[1])\n",
    "print(names[2])"
   ]
  },
  {
   "cell_type": "markdown",
   "metadata": {},
   "source": [
    "EXERCISE 3.2"
   ]
  },
  {
   "cell_type": "code",
   "execution_count": null,
   "metadata": {},
   "outputs": [],
   "source": [
    "message = \"Happy New Year\"\n",
    "print(message, names[0])\n",
    "print(message, names[1])\n",
    "print(message, names[2])\n"
   ]
  },
  {
   "cell_type": "markdown",
   "metadata": {},
   "source": [
    "EXERCISE 3.3"
   ]
  },
  {
   "cell_type": "code",
   "execution_count": null,
   "metadata": {},
   "outputs": [],
   "source": [
    "vehicles = [\"Kawasaki Ninja H2\", \"BMW 1000RR\", \"Mercedes-Benz\", \"Lamborghini Urus\"]\n",
    "\n",
    "print(\"I would like to own a \" + vehicles[0] + \" motorcycle.\")\n",
    "print(\"I would like to own a \" + vehicles[1] + \" motorcycle.\")\n",
    "print(\"I would like to own a \" + vehicles[2] + \" car.\")\n",
    "print(\"I would like to own a \" + vehicles[3] + \".\")"
   ]
  },
  {
   "cell_type": "markdown",
   "metadata": {},
   "source": [
    "EXERCISE 3.4"
   ]
  },
  {
   "cell_type": "code",
   "execution_count": null,
   "metadata": {},
   "outputs": [],
   "source": [
    "guests = []\n",
    "\n",
    "guests.append(input(\"Enter 1st guest name you want to invite: \"))\n",
    "guests.append(input(\"Enter 2nd guest name you want to invite: \"))\n",
    "guests.append(input(\"Enter 3rd guest name you want to invite: \"))\n",
    "print()\n",
    "print(\"sending them invitation message.......\")\n",
    "print()\n",
    "print(\"Dear \" + guests[0] + \", you are cordially invited to dinner.\")\n",
    "print(\"Dear \" + guests[1] + \",  you are cordially invited to dinner.\")\n",
    "print(\"Dear \" + guests[2] + \",  you are cordially invited to dinner.\")\n",
    "\n",
    "print(guests)"
   ]
  },
  {
   "cell_type": "markdown",
   "metadata": {},
   "source": [
    "EXERCISE 3.5"
   ]
  },
  {
   "cell_type": "code",
   "execution_count": null,
   "metadata": {},
   "outputs": [],
   "source": [
    "unable_to_attend= input(\"The guest who cant attend dinner: \")\n",
    "print()\n",
    "\n",
    "unable_guest_index= guests.index(unable_to_attend)\n",
    "guests[unable_guest_index]= input(\"Enter new guest name: \")\n",
    "print()\n",
    "print(f\"{unable_to_attend} is removed from the invitaions list\")\n",
    "print(\"updated invitations list.....\")\n",
    "print()\n",
    "\n",
    "print(\"Dear \" + guests[0] + \", you are cordially invited to dinner.\")\n",
    "print(\"Dear \" + guests[1] + \",  you are cordially invited to dinner.\")\n",
    "print(\"Dear \" + guests[2] + \",  you are cordially invited to dinner.\")\n",
    "print()\n",
    "\n",
    "print(unable_to_attend, \"cant join us\")\n",
    "print(guests)"
   ]
  },
  {
   "cell_type": "markdown",
   "metadata": {},
   "source": [
    "EXERCISE 3.6"
   ]
  },
  {
   "cell_type": "code",
   "execution_count": null,
   "metadata": {},
   "outputs": [],
   "source": [
    "print(\"we have 3 seats available so you can ivt more guests\")\n",
    "print()\n",
    "\n",
    "print(\"new guests you are inviting\")\n",
    "guests.insert(0, input(\"Enter 1st guest name you want to invite: \"))\n",
    "\n",
    "# we want to add this name in the middle of the list [guests]\n",
    "middle_index_of_list = len(guests)//2\n",
    "guests.insert(middle_index_of_list, input(\"Enter 2nd guest name you want to invite: \"))\n",
    "\n",
    "guests.append(input(\"Enter 3rd guest name you want to invite: \"))\n",
    "print()\n",
    "print(guests)\n",
    "\n",
    "print(\"Dear \" + guests[0] + \", you are cordially invited to dinner.\")\n",
    "print(\"Dear \" + guests[1] + \",  you are cordially invited to dinner.\")\n",
    "print(\"Dear \" + guests[2] + \",  you are cordially invited to dinner.\")\n",
    "print(\"Dear \" + guests[3] + \",  you are cordially invited to dinner.\")\n",
    "print(\"Dear \" + guests[4] + \",  you are cordially invited to dinner.\")\n",
    "print(\"Dear \" + guests[5] + \",  you are cordially invited to dinner.\")\n",
    "\n",
    "print(guests)"
   ]
  },
  {
   "cell_type": "markdown",
   "metadata": {},
   "source": [
    "EXERCISE 3.7"
   ]
  },
  {
   "cell_type": "code",
   "execution_count": null,
   "metadata": {},
   "outputs": [],
   "source": [
    "print(\"you can invite only two people for dinner.\")\n",
    "print(\"shrink your list\")\n",
    "\n",
    "print(f\"{guests[0]}, sorry you cant attend our party\")\n",
    "guests.pop(0)\n",
    "print()\n",
    "\n",
    "print(f\"{guests[0]}, sorry you cant attend our party\")\n",
    "guests.pop(0)\n",
    "print()\n",
    "\n",
    "print(f\"{guests[0]}, sorry you cant attend our party\")\n",
    "guests.pop(0)\n",
    "print()\n",
    "\n",
    "print(f\"{guests[0]}, sorry you cant attend our party\")\n",
    "guests.pop(0)\n",
    "print()\n",
    "print(f\"{guests[0]}, you are still invited\")\n",
    "print(f\"{guests[1]}, you are still invited\")\n",
    "print()\n",
    "\n",
    "del guests[0]\n",
    "del guests[0]\n",
    "print(guests)\n",
    "\n"
   ]
  },
  {
   "cell_type": "markdown",
   "metadata": {},
   "source": [
    "EXERCISE 3.4 -3.7"
   ]
  },
  {
   "cell_type": "code",
   "execution_count": null,
   "metadata": {},
   "outputs": [],
   "source": [
    "# EXERCISE 3.4\n",
    "\n",
    "\n",
    "guests = []\n",
    "\n",
    "guests.append(input(\"Enter 1st guest name you want to invite: \"))\n",
    "guests.append(input(\"Enter 2nd guest name you want to invite: \"))\n",
    "guests.append(input(\"Enter 3rd guest name you want to invite: \"))\n",
    "print()\n",
    "print(\"sending them invitation message.......\")\n",
    "print()\n",
    "print(\"Dear \" + guests[0] + \", you are cordially invited to dinner.\")\n",
    "print(\"Dear \" + guests[1] + \",  you are cordially invited to dinner.\")\n",
    "print(\"Dear \" + guests[2] + \",  you are cordially invited to dinner.\")\n",
    "\n",
    "print(guests)\n",
    "\n",
    "# exercise 3.5\n",
    "\n",
    "unable_to_attend= input(\"The guest who cant attend dinner: \")\n",
    "print()\n",
    "\n",
    "unable_guest_index= guests.index(unable_to_attend)\n",
    "guests[unable_guest_index]= input(\"Enter new guest name: \")\n",
    "print()\n",
    "print(f\"{unable_to_attend} is removed from the invitaions list\")\n",
    "print(\"updated invitations list.....\")\n",
    "print()\n",
    "\n",
    "print(\"Dear \" + guests[0] + \", you are cordially invited to dinner.\")\n",
    "print(\"Dear \" + guests[1] + \",  you are cordially invited to dinner.\")\n",
    "print(\"Dear \" + guests[2] + \",  you are cordially invited to dinner.\")\n",
    "print()\n",
    "\n",
    "print(unable_to_attend, \"cant join us\")\n",
    "print(guests)\n",
    "\n",
    "# EXERCISE 3.6\n",
    "\n",
    "print(\"we have 3 seats available so you can ivt more guests\")\n",
    "print()\n",
    "\n",
    "print(\"new guests you are inviting\")\n",
    "guests.insert(0, input(\"Enter 1st guest name you want to invite: \"))\n",
    "\n",
    "# we want to add this name in the middle of the list [guests]\n",
    "middle_index_of_list = len(guests)//2\n",
    "guests.insert(middle_index_of_list, input(\"Enter 2nd guest name you want to invite: \"))\n",
    "\n",
    "guests.append(input(\"Enter 3rd guest name you want to invite: \"))\n",
    "print()\n",
    "print(guests)\n",
    "\n",
    "print(\"Dear \" + guests[0] + \", you are cordially invited to dinner.\")\n",
    "print(\"Dear \" + guests[1] + \",  you are cordially invited to dinner.\")\n",
    "print(\"Dear \" + guests[2] + \",  you are cordially invited to dinner.\")\n",
    "print(\"Dear \" + guests[3] + \",  you are cordially invited to dinner.\")\n",
    "print(\"Dear \" + guests[4] + \",  you are cordially invited to dinner.\")\n",
    "print(\"Dear \" + guests[5] + \",  you are cordially invited to dinner.\")\n",
    "\n",
    "print(guests)\n",
    "\n",
    "# EXERCISE 3.7\n",
    "\n",
    "print(\"you can invite only two people for dinner.\")\n",
    "print(\"shrink your list\")\n",
    "\n",
    "print(f\"{guests[0]}, sorry you cant attend our party\")\n",
    "guests.pop(0)\n",
    "print()\n",
    "\n",
    "print(f\"{guests[0]}, sorry you cant attend our party\")\n",
    "guests.pop(0)\n",
    "print()\n",
    "\n",
    "print(f\"{guests[0]}, sorry you cant attend our party\")\n",
    "guests.pop(0)\n",
    "print()\n",
    "\n",
    "print(f\"{guests[0]}, sorry you cant attend our party\")\n",
    "guests.pop(0)\n",
    "print()\n",
    "print(f\"{guests[0]}, you are still invited\")\n",
    "print(f\"{guests[1]}, you are still invited\")\n",
    "print()\n",
    "\n",
    "del guests[0]\n",
    "del guests[0]\n",
    "print(guests)\n"
   ]
  },
  {
   "cell_type": "markdown",
   "metadata": {},
   "source": [
    "EXERCISE 3.8"
   ]
  },
  {
   "cell_type": "code",
   "execution_count": null,
   "metadata": {},
   "outputs": [],
   "source": [
    "locations = [\"lahore\",\"okara\",\"adelaide\",\"mumbai\",\"dhaka\"]\n",
    "print(f\"original list:\\n {locations}\")\n",
    "print()\n",
    "\n",
    "print(f\"sorted list: \\n{sorted(locations)}\")\n",
    "print()\n",
    "\n",
    "print(f\"reverse sorted list: \\n{sorted(locations, reverse=True)}\")\n",
    "\n",
    "print(f\"original list:\\n {locations}\")\n",
    "print()\n",
    "\n",
    "locations.reverse()\n",
    "print(f\"reverse list 1: \\n{locations}\")\n",
    "print()\n",
    "\n",
    "locations.reverse()\n",
    "print(f\"reverse list 2: \\n{locations}\")\n",
    "print()\n",
    "\n",
    "locations.sort()\n",
    "print(f\"sorted list: \\n{locations}\")\n",
    "print()\n",
    "\n",
    "locations.sort(reverse=True)\n",
    "print(f\"reverse sorted list: \\n{locations}\")\n",
    "print()"
   ]
  },
  {
   "cell_type": "markdown",
   "metadata": {},
   "source": [
    "EXERCISE 3.9"
   ]
  },
  {
   "cell_type": "code",
   "execution_count": null,
   "metadata": {},
   "outputs": [],
   "source": [
    "guests = []\n",
    "\n",
    "guests.append(input(\"Enter 1st guest name you want to invite: \"))\n",
    "guests.append(input(\"Enter 2nd guest name you want to invite: \"))\n",
    "guests.append(input(\"Enter 3rd guest name you want to invite: \"))\n",
    "print()\n",
    "print(\"sending them invitation message.......\")\n",
    "print()\n",
    "print(\"Dear \" + guests[0] + \", you are cordially invited to dinner.\")\n",
    "print(\"Dear \" + guests[1] + \",  you are cordially invited to dinner.\")\n",
    "print(\"Dear \" + guests[2] + \",  you are cordially invited to dinner.\")\n",
    "\n",
    "print(f\"{len(guests)} guests are invited on party\")\n"
   ]
  },
  {
   "cell_type": "markdown",
   "metadata": {},
   "source": [
    "EXERCISE 3.10"
   ]
  },
  {
   "cell_type": "markdown",
   "metadata": {},
   "source": []
  }
 ],
 "metadata": {
  "kernelspec": {
   "display_name": "Python 3",
   "language": "python",
   "name": "python3"
  },
  "language_info": {
   "codemirror_mode": {
    "name": "ipython",
    "version": 3
   },
   "file_extension": ".py",
   "mimetype": "text/x-python",
   "name": "python",
   "nbconvert_exporter": "python",
   "pygments_lexer": "ipython3",
   "version": "3.13.1"
  }
 },
 "nbformat": 4,
 "nbformat_minor": 2
}
