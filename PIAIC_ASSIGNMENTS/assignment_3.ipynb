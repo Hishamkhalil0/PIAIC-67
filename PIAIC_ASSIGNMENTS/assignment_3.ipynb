{
  "cells": [
    {
      "cell_type": "markdown",
      "metadata": {
        "id": "rQ-L5VhlghaD"
      },
      "source": [
        "Hisham khalil\\\n",
        "PIAIC252246\\\n",
        "Assignment 03"
      ]
    },
    {
      "cell_type": "markdown",
      "metadata": {
        "id": "U3yAWrD3jTxT"
      },
      "source": [
        "# **Part 1: Working with Variables, Input, and String**"
      ]
    },
    {
      "cell_type": "markdown",
      "metadata": {
        "id": "NQASDD8r9NV3"
      },
      "source": [
        "**Q1: \\\n",
        "  Prompt for user input**"
      ]
    },
    {
      "cell_type": "code",
      "execution_count": 1,
      "metadata": {
        "colab": {
          "base_uri": "https://localhost:8080/"
        },
        "id": "rLZ_LaUq8Moo",
        "outputId": "535e42a4-8131-42b3-f0d0-c6839ae5c442"
      },
      "outputs": [
        {
          "name": "stdout",
          "output_type": "stream",
          "text": [
            "hisham khalil! Welcome to 3rd Python assignment\n"
          ]
        }
      ],
      "source": [
        "first_name=input(\"Enter Your First Name :\")\n",
        "last_name =input(\"Enter Your Second Name :\")\n",
        "full_name=f\"{first_name} {last_name}\"\n",
        "print(f\"{full_name}! Welcome to 3rd Python assignment\")"
      ]
    },
    {
      "cell_type": "markdown",
      "metadata": {
        "id": "c_X15NFO9mJ9"
      },
      "source": [
        "**Q2: \\\n",
        "String methods**"
      ]
    },
    {
      "cell_type": "code",
      "execution_count": 2,
      "metadata": {
        "colab": {
          "base_uri": "https://localhost:8080/"
        },
        "id": "CDVmKwJA9MhV",
        "outputId": "dae95d42-6840-455e-8355-536ab22b55fd"
      },
      "outputs": [
        {
          "name": "stdout",
          "output_type": "stream",
          "text": [
            "Your Name In Upper Case : HISHAM KHALIL\n",
            "Your Name In Lower Case : hisham khalil\n",
            "13\n",
            "hisham_khalil\n",
            "hisham khalil\n"
          ]
        }
      ],
      "source": [
        "print(\"Your Name In Upper Case :\" , full_name.upper())\n",
        "print(\"Your Name In Lower Case :\" , full_name.lower())\n",
        "print(len(full_name))\n",
        "print(full_name.replace(\" \",\"_\"))\n",
        "print(full_name.strip())"
      ]
    },
    {
      "cell_type": "markdown",
      "metadata": {
        "id": "Uh-tcM1m_s9G"
      },
      "source": [
        "**Q3:\\\n",
        "Type casting and numeric operations**"
      ]
    },
    {
      "cell_type": "code",
      "execution_count": 3,
      "metadata": {
        "colab": {
          "base_uri": "https://localhost:8080/"
        },
        "id": "7eyh5i3t-MVC",
        "outputId": "6a215969-9904-45f3-a9c3-6241e6323bfb"
      },
      "outputs": [
        {
          "name": "stdout",
          "output_type": "stream",
          "text": [
            "You are approx 18 years old\n"
          ]
        }
      ],
      "source": [
        "birth_year=int(input(\"Enter Your Birth Year :\"))\n",
        "current_year=2024\n",
        "age=current_year - birth_year\n",
        "print(f\"You are approx {age} years old\")"
      ]
    },
    {
      "cell_type": "markdown",
      "metadata": {
        "id": "cXmDVp6TAIPY"
      },
      "source": [
        "**Q3:(Alternative)**"
      ]
    },
    {
      "cell_type": "code",
      "execution_count": 4,
      "metadata": {
        "colab": {
          "base_uri": "https://localhost:8080/"
        },
        "id": "521TrZ-DAFLY",
        "outputId": "4082f144-58b1-4b8c-df10-4a81c896f89a"
      },
      "outputs": [
        {
          "name": "stdout",
          "output_type": "stream",
          "text": [
            "Your Birth Year is approx 2006\n"
          ]
        }
      ],
      "source": [
        "age=int(input(\"Enter Your Age :\"))\n",
        "current_year=2024\n",
        "birth_year=current_year-age\n",
        "print(f\"Your Birth Year is approx {birth_year}\")"
      ]
    },
    {
      "cell_type": "markdown",
      "metadata": {
        "id": "6bPsp26ri06d"
      },
      "source": [
        "# **Part 2: Lists and Indexing**"
      ]
    },
    {
      "cell_type": "markdown",
      "metadata": {
        "id": "s8FNQoZtkxzX"
      },
      "source": [
        "****Q1:\\\n",
        "Create a list from user input****"
      ]
    },
    {
      "cell_type": "code",
      "execution_count": 5,
      "metadata": {
        "id": "LAhB7eRcAVD6"
      },
      "outputs": [
        {
          "name": "stdout",
          "output_type": "stream",
          "text": [
            "['mango', 'orange', 'peach', 'apple', 'grapes']\n"
          ]
        }
      ],
      "source": [
        "fav_fruits = input(\"Enter your 5 fav fruits separated by a space: \")\n",
        "fav_fruit_list=fav_fruits.split()\n",
        "print(fav_fruit_list)"
      ]
    },
    {
      "cell_type": "markdown",
      "metadata": {
        "id": "slLZvA-2k9iN"
      },
      "source": [
        "****Q2:\\\n",
        "List indexing and slicing****"
      ]
    },
    {
      "cell_type": "code",
      "execution_count": 7,
      "metadata": {
        "id": "XutgYC5uk6bw"
      },
      "outputs": [
        {
          "name": "stdout",
          "output_type": "stream",
          "text": [
            "List of Appended fruits: ['apple', 'banana']\n",
            "list after inserting fruit: ['apple', 'cherry', 'banana']\n",
            "['apple', 'cherry']\n"
          ]
        }
      ],
      "source": [
        "fruits_list=[]\n",
        "\n",
        "fruits_list.append(\"apple\")\n",
        "fruits_list.append(\"banana\")\n",
        "print(\"List of Appended fruits:\", fruits_list)\n",
        "\n",
        "fruits_list.insert(1, 'cherry')\n",
        "print(\"list after inserting fruit:\", fruits_list)\n",
        "\n",
        "print(fruits_list[0:2])"
      ]
    },
    {
      "cell_type": "markdown",
      "metadata": {
        "id": "jctLbqymlDtU"
      },
      "source": [
        "**Q3:\\\n",
        "List methods**"
      ]
    },
    {
      "cell_type": "code",
      "execution_count": 8,
      "metadata": {
        "id": "t2pE8Av4lCdv"
      },
      "outputs": [
        {
          "name": "stdout",
          "output_type": "stream",
          "text": [
            "['apple', 'mango', 'grapes', 'cherry']\n",
            "['apple', 'mango', 'cherry']\n",
            "['mango', 'cherry']\n"
          ]
        }
      ],
      "source": [
        "flist=[\"apple\",\"mango\",\"grapes\"]\n",
        "\n",
        "# APPEND METHOD\n",
        "flist.append(\"cherry\")\n",
        "print(flist)\n",
        "\n",
        "# REMOVE METHOD\n",
        "flist.remove(\"grapes\")\n",
        "print(flist)\n",
        "\n",
        "# POP METHOD\n",
        "flist.pop(0)\n",
        "print(flist)"
      ]
    },
    {
      "cell_type": "markdown",
      "metadata": {
        "id": "ReqHdCvMlKBi"
      },
      "source": [
        "# **Part 3 (Optional Challenge): Combining Concepts**"
      ]
    },
    {
      "cell_type": "markdown",
      "metadata": {
        "id": "eDMH87u7la6t"
      },
      "source": [
        "**Q1:\\\n",
        "String & List Interaction**"
      ]
    },
    {
      "cell_type": "code",
      "execution_count": 9,
      "metadata": {
        "id": "r2z_lE39lKqh"
      },
      "outputs": [
        {
          "name": "stdout",
          "output_type": "stream",
          "text": [
            "['H', 'i', 's', 'h', 'a', 'm', 'k', 'h', 'a', 'l', 'i', 'l']\n",
            "['H', 'i', 's', 'l', 'i', 'l']\n"
          ]
        }
      ],
      "source": [
        "myname=\"Hisham khalil\"\n",
        "full_name=myname.replace(\" \",\"\")\n",
        "\n",
        "letterslist=list(full_name)\n",
        "print(letterslist)\n",
        "\n",
        "print(letterslist[:3]+letterslist[-3:])"
      ]
    },
    {
      "cell_type": "markdown",
      "metadata": {
        "id": "fs8m4DzNlh6D"
      },
      "source": [
        "**Q2:\\\n",
        "Manipulate and Reconstruct**"
      ]
    },
    {
      "cell_type": "code",
      "execution_count": 10,
      "metadata": {
        "id": "C4pmkGYPliaR"
      },
      "outputs": [
        {
          "name": "stdout",
          "output_type": "stream",
          "text": [
            "HIShamkhalil\n",
            "['H', 'I', 'S', 'h', 'a', 'm', 'k', 'h', 'a', 'l', 'i', 'l']\n",
            "HIShamkhalil\n"
          ]
        }
      ],
      "source": [
        "# Manipulate\n",
        "mod_name1=full_name[:3].upper()+full_name[3:].lower()\n",
        "print(mod_name1)\n",
        "print(list(mod_name1))\n",
        "# Reconstruct\n",
        "print(\"\".join(mod_name1))\n"
      ]
    },
    {
      "cell_type": "markdown",
      "metadata": {
        "id": "R22uwmrnltxo"
      },
      "source": [
        "**Q3:\\\n",
        "Simple Arithmetic on a List of Numbers**"
      ]
    },
    {
      "cell_type": "code",
      "execution_count": 12,
      "metadata": {
        "id": "rjhZcMoBluj1"
      },
      "outputs": [
        {
          "name": "stdout",
          "output_type": "stream",
          "text": [
            "list of input numbers :[324, 34, 54, 45, 45]\n",
            "sum :502\n",
            "Average : 100.4\n"
          ]
        }
      ],
      "source": [
        "numbers=input(\"Enter 5 numbers separated by spaces: \")\n",
        "numbers_list=list(map(int, numbers.split()))\n",
        "adding_numbers=sum(numbers_list)\n",
        "average=adding_numbers/len(numbers_list)\n",
        "\n",
        "print(f\"list of input numbers :{numbers_list}\")\n",
        "print(f\"sum :{adding_numbers}\")\n",
        "print(f\"Average : {average}\")"
      ]
    },
    {
      "cell_type": "markdown",
      "metadata": {
        "id": "t3lCcC0Pl2eu"
      },
      "source": [
        "# **Part 4: Additional Questions & Mini-Challenges**"
      ]
    },
    {
      "cell_type": "markdown",
      "metadata": {
        "id": "Z_lpeBVAmY_0"
      },
      "source": []
    },
    {
      "cell_type": "code",
      "execution_count": 13,
      "metadata": {
        "colab": {
          "base_uri": "https://localhost:8080/"
        },
        "id": "wwY2bm-I7FRo",
        "outputId": "b47c930e-2eda-4541-f63a-39416c5e9053"
      },
      "outputs": [
        {
          "name": "stdout",
          "output_type": "stream",
          "text": [
            "['kiwi', 'apple', 'orange', 'banana']\n",
            "longest fruit name: orange\n",
            "Shortest fruit name: kiwi\n",
            "yes\n",
            "The fruit list is sorted.\n",
            "['apple', 'banana', 'kiwi', 'orange']\n"
          ]
        }
      ],
      "source": [
        "flist=[]\n",
        "\n",
        "flist.append(\"kiwi\")\n",
        "flist.append(\"apple\")\n",
        "flist.append(\"orange\")\n",
        "flist.append(\"banana\")\n",
        "\n",
        "print(flist)\n",
        "longest_fname=max(flist, key=len)\n",
        "print (\"longest fruit name:\", longest_fname)\n",
        "\n",
        "shortest_fname=min(flist, key=len)\n",
        "print (\"Shortest fruit name:\", shortest_fname)\n",
        "\n",
        "\n",
        "\n",
        "question =input(\"Question: Do you want to sort your list: \").lower().strip()\n",
        "print(question)\n",
        "\n",
        "if question == \"yes\":\n",
        "   print(\"The fruit list is sorted.\")\n",
        "   flist.sort()\n",
        "   print(flist)\n",
        "elif question == \"no\":\n",
        "\n",
        "   print(\"The fruit list remains unsorted.\")\n",
        "   print(flist)\n",
        "\n",
        "else:\n",
        "  print('''invalid input\n",
        "       Try valid input(yes/no)''')"
      ]
    },
    {
      "cell_type": "markdown",
      "metadata": {
        "id": "ik1wQkUh7qwy"
      },
      "source": [
        "**Q2:\\\n",
        "Searching in the Fruit List**"
      ]
    },
    {
      "cell_type": "code",
      "execution_count": 14,
      "metadata": {
        "colab": {
          "base_uri": "https://localhost:8080/"
        },
        "id": "HOlfHW5W7tI3",
        "outputId": "3a901c26-c6ab-47f9-a0e3-083ef6a2fa6e"
      },
      "outputs": [
        {
          "name": "stdout",
          "output_type": "stream",
          "text": [
            "['apple', 'banana', 'kiwi', 'orange']\n",
            "Yes, kiwi is in the list at 3 place  [index: 2]\n"
          ]
        }
      ],
      "source": [
        "print(flist)\n",
        "fname=input(\"Enter name of a fruit: \")\n",
        "if fname in flist:\n",
        "  index=flist.index(fname)\n",
        "  print(f\"Yes, {fname} is in the list at {index + 1} place  [index: {index}]\")\n",
        "\n",
        "else:\n",
        "   fname not in flist\n",
        "   print(f\"No, {fname} is not in the list\")"
      ]
    },
    {
      "cell_type": "markdown",
      "metadata": {
        "id": "SQN82fUL87Fi"
      },
      "source": [
        "**Q3:\\\n",
        "Name Palindrome Check (String Manipulation)**"
      ]
    },
    {
      "cell_type": "code",
      "execution_count": 15,
      "metadata": {
        "colab": {
          "base_uri": "https://localhost:8080/"
        },
        "id": "t9WrXT7q89Qy",
        "outputId": "c670ade7-d055-409a-f01c-14f120878fc8"
      },
      "outputs": [
        {
          "name": "stdout",
          "output_type": "stream",
          "text": [
            "The word 'motom' is a palindrome\n"
          ]
        }
      ],
      "source": [
        "word=input(\"enter word without space: \").lower().strip()\n",
        "\n",
        "if word==word[::-1]:\n",
        "   print(f\"The word '{word}' is a palindrome\")\n",
        "\n",
        "else:\n",
        "   print(f\"The word '{word}' is not a palindrome\")"
      ]
    },
    {
      "cell_type": "markdown",
      "metadata": {
        "id": "wcK1I3GWBkqR"
      },
      "source": [
        "**Q4:\\\n",
        "Enhanced Number Operations**"
      ]
    },
    {
      "cell_type": "code",
      "execution_count": 16,
      "metadata": {
        "colab": {
          "base_uri": "https://localhost:8080/"
        },
        "id": "o-NgqOw1eYQF",
        "outputId": "10236f0d-865c-4394-aeba-80b671e0f215"
      },
      "outputs": [
        {
          "name": "stdout",
          "output_type": "stream",
          "text": [
            "[34, 34, 4, 5, 56]\n",
            "biggest num:  56\n",
            "smallest num:  4\n",
            "product:  1294720\n"
          ]
        }
      ],
      "source": [
        "\n",
        "\n",
        "numbers = input(\"enter 5 numbers: \")\n",
        "numbers_list = list(map(int, numbers.split()))\n",
        "\n",
        "if len(numbers_list) != 5:\n",
        "    print(\"Please enter exactly 5 numbers separated by spaces.\")\n",
        "else:\n",
        "    print(numbers_list)\n",
        "    biggest_num = max(numbers_list)\n",
        "    smallest_num = min(numbers_list)\n",
        "    print(\"biggest num: \", biggest_num)\n",
        "    print(\"smallest num: \", smallest_num)\n",
        "\n",
        "    product=numbers_list[0] * numbers_list[1] * numbers_list[2] * numbers_list[3] * numbers_list[4]\n",
        "    print(\"product: \", product)"
      ]
    },
    {
      "cell_type": "code",
      "execution_count": null,
      "metadata": {},
      "outputs": [],
      "source": []
    }
  ],
  "metadata": {
    "colab": {
      "provenance": []
    },
    "kernelspec": {
      "display_name": "Python 3",
      "name": "python3"
    },
    "language_info": {
      "codemirror_mode": {
        "name": "ipython",
        "version": 3
      },
      "file_extension": ".py",
      "mimetype": "text/x-python",
      "name": "python",
      "nbconvert_exporter": "python",
      "pygments_lexer": "ipython3",
      "version": "3.13.1"
    }
  },
  "nbformat": 4,
  "nbformat_minor": 0
}
