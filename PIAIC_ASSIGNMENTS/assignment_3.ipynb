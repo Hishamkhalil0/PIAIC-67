{
  "nbformat": 4,
  "nbformat_minor": 0,
  "metadata": {
    "colab": {
      "provenance": []
    },
    "kernelspec": {
      "name": "python3",
      "display_name": "Python 3"
    },
    "language_info": {
      "name": "python"
    }
  },
  "cells": [
    {
      "cell_type": "markdown",
      "source": [
        "Hisham khalil\\\n",
        "PIAIC252246\\\n",
        "Assignment 03"
      ],
      "metadata": {
        "id": "rQ-L5VhlghaD"
      }
    },
    {
      "cell_type": "markdown",
      "source": [
        "# **Part 1: Working with Variables, Input, and String**"
      ],
      "metadata": {
        "id": "U3yAWrD3jTxT"
      }
    },
    {
      "cell_type": "markdown",
      "source": [
        "**Q1: \\\n",
        "  Prompt for user input**"
      ],
      "metadata": {
        "id": "NQASDD8r9NV3"
      }
    },
    {
      "cell_type": "code",
      "execution_count": null,
      "metadata": {
        "colab": {
          "base_uri": "https://localhost:8080/"
        },
        "id": "rLZ_LaUq8Moo",
        "outputId": "535e42a4-8131-42b3-f0d0-c6839ae5c442"
      },
      "outputs": [
        {
          "output_type": "stream",
          "name": "stdout",
          "text": [
            "Enter Your First Name :Hisham\n",
            "Enter Your Second Name :khalil\n",
            "Hisham khalil! Welcome to 3rd Python assignment\n"
          ]
        }
      ],
      "source": [
        "first_name=input(\"Enter Your First Name :\")\n",
        "last_name =input(\"Enter Your Second Name :\")\n",
        "full_name=f\"{first_name} {last_name}\"\n",
        "print(f\"{full_name}! Welcome to 3rd Python assignment\")"
      ]
    },
    {
      "cell_type": "markdown",
      "source": [
        "**Q2: \\\n",
        "String methods**"
      ],
      "metadata": {
        "id": "c_X15NFO9mJ9"
      }
    },
    {
      "cell_type": "code",
      "source": [
        "print(\"Your Name In Upper Case :\" , full_name.upper())\n",
        "print(\"Your Name In Lower Case :\" , full_name.lower())\n",
        "print(len(full_name))\n",
        "print(full_name.replace(\" \",\"_\"))\n",
        "print(full_name.strip())"
      ],
      "metadata": {
        "colab": {
          "base_uri": "https://localhost:8080/"
        },
        "id": "CDVmKwJA9MhV",
        "outputId": "dae95d42-6840-455e-8355-536ab22b55fd"
      },
      "execution_count": null,
      "outputs": [
        {
          "output_type": "stream",
          "name": "stdout",
          "text": [
            "Your Name In Upper Case : HISHAM KHALIL\n",
            "Your Name In Lower Case : hisham khalil\n",
            "13\n",
            "Hisham_khalil\n",
            "Hisham khalil\n"
          ]
        }
      ]
    },
    {
      "cell_type": "markdown",
      "source": [
        "**Q3:\\\n",
        "Type casting and numeric operations**"
      ],
      "metadata": {
        "id": "Uh-tcM1m_s9G"
      }
    },
    {
      "cell_type": "code",
      "source": [
        "birth_year=int(input(\"Enter Your Birth Year :\"))\n",
        "current_year=2024\n",
        "age=current_year - birth_year\n",
        "print(f\"You are approx {age} years old\")"
      ],
      "metadata": {
        "colab": {
          "base_uri": "https://localhost:8080/"
        },
        "id": "7eyh5i3t-MVC",
        "outputId": "6a215969-9904-45f3-a9c3-6241e6323bfb"
      },
      "execution_count": null,
      "outputs": [
        {
          "output_type": "stream",
          "name": "stdout",
          "text": [
            "Enter Your Birth Year :2006\n",
            "You are approx 18 years old\n"
          ]
        }
      ]
    },
    {
      "cell_type": "markdown",
      "source": [
        "**Q3:(Alternative)**"
      ],
      "metadata": {
        "id": "cXmDVp6TAIPY"
      }
    },
    {
      "cell_type": "code",
      "source": [
        "age=int(input(\"Enter Your Age :\"))\n",
        "current_year=2024\n",
        "birth_year=current_year-age\n",
        "print(f\"Your Birth Year is approx {birth_year}\")"
      ],
      "metadata": {
        "colab": {
          "base_uri": "https://localhost:8080/"
        },
        "id": "521TrZ-DAFLY",
        "outputId": "4082f144-58b1-4b8c-df10-4a81c896f89a"
      },
      "execution_count": null,
      "outputs": [
        {
          "output_type": "stream",
          "name": "stdout",
          "text": [
            "Enter Your Age :18\n",
            "Your Birth Year is approx 2006\n"
          ]
        }
      ]
    },
    {
      "cell_type": "markdown",
      "source": [
        "# **Part 2: Lists and Indexing**"
      ],
      "metadata": {
        "id": "6bPsp26ri06d"
      }
    },
    {
      "cell_type": "markdown",
      "source": [
        "****Q1:\\\n",
        "Create a list from user input****"
      ],
      "metadata": {
        "id": "s8FNQoZtkxzX"
      }
    },
    {
      "cell_type": "code",
      "source": [
        "fav_fruits = input(\"Enter your 5 fav fruits separated by a space: \")\n",
        "fav_fruit_list=fav_fruits.split()\n",
        "print(fav_fruit_list)"
      ],
      "metadata": {
        "id": "LAhB7eRcAVD6"
      },
      "execution_count": null,
      "outputs": []
    },
    {
      "cell_type": "markdown",
      "source": [
        "****Q2:\\\n",
        "List indexing and slicing****"
      ],
      "metadata": {
        "id": "slLZvA-2k9iN"
      }
    },
    {
      "cell_type": "code",
      "source": [
        "fruits_list=[]\n",
        "\n",
        "fruits_list.append(\"apple\")\n",
        "fruits_list.append(\"banana\")\n",
        "print(\"List of Appended fruits:\", fruits_list)\n",
        "\n",
        "fruits_list.insert(1, 'cherry')\n",
        "print(\"list after inserting fruit:\", fruits_list)\n",
        "\n",
        "print(fruits_list[0:2]"
      ],
      "metadata": {
        "id": "XutgYC5uk6bw"
      },
      "execution_count": null,
      "outputs": []
    },
    {
      "cell_type": "markdown",
      "source": [
        "**Q3:\\\n",
        "List methods**"
      ],
      "metadata": {
        "id": "jctLbqymlDtU"
      }
    },
    {
      "cell_type": "code",
      "source": [
        "flist=[\"apple\",\"mango\",\"grapes\"]\n",
        "\n",
        "# APPEND METHOD\n",
        "flist.append(\"cherry\")\n",
        "print(flist)\n",
        "\n",
        "# REMOVE METHOD\n",
        "flist.remove(\"grapes\")\n",
        "print(flist)\n",
        "\n",
        "# POP METHOD\n",
        "flist.pop(0)\n",
        "print(flist)"
      ],
      "metadata": {
        "id": "t2pE8Av4lCdv"
      },
      "execution_count": null,
      "outputs": []
    },
    {
      "cell_type": "markdown",
      "source": [
        "# **Part 3 (Optional Challenge): Combining Concepts**"
      ],
      "metadata": {
        "id": "ReqHdCvMlKBi"
      }
    },
    {
      "cell_type": "markdown",
      "source": [
        "**Q1:\\\n",
        "String & List Interaction**"
      ],
      "metadata": {
        "id": "eDMH87u7la6t"
      }
    },
    {
      "cell_type": "code",
      "source": [
        "myname=\"Hisham khalil\"\n",
        "full_name=myname.replace(\" \",\"\")\n",
        "\n",
        "letterslist=list(full_name)\n",
        "print(letterslist)\n",
        "\n",
        "print(letterslist[:3]+letterslist[-3:])"
      ],
      "metadata": {
        "id": "r2z_lE39lKqh"
      },
      "execution_count": null,
      "outputs": []
    },
    {
      "cell_type": "markdown",
      "source": [
        "**Q2:\\\n",
        "Manipulate and Reconstruct**"
      ],
      "metadata": {
        "id": "fs8m4DzNlh6D"
      }
    },
    {
      "cell_type": "code",
      "source": [
        "# Manipulate\n",
        "mod_name1=full_name[:3].upper()+full_name[3:].lower()\n",
        "print(mod_name1)\n",
        "print(list(mod_name1))\n",
        "# Reconstruct\n",
        "print(\"\".join(mod_name1))\n"
      ],
      "metadata": {
        "id": "C4pmkGYPliaR"
      },
      "execution_count": null,
      "outputs": []
    },
    {
      "cell_type": "markdown",
      "source": [
        "**Q3:\\\n",
        "Simple Arithmetic on a List of Numbers**"
      ],
      "metadata": {
        "id": "R22uwmrnltxo"
      }
    },
    {
      "cell_type": "code",
      "source": [
        "numbers=input(\"Enter 5 numbers separated by spaces: \")\n",
        "numbers_list=list(map(int, numbers.split()))\n",
        "adding_numbers=sum(numbers_list)\n",
        "average=adding_numbers/len(numbers_list)\n",
        "\n",
        "print(numbers_list)\n",
        "print(adding_numbers)\n",
        "print(average)"
      ],
      "metadata": {
        "id": "rjhZcMoBluj1"
      },
      "execution_count": null,
      "outputs": []
    },
    {
      "cell_type": "markdown",
      "source": [
        "# **Part 4: Additional Questions & Mini-Challenges**"
      ],
      "metadata": {
        "id": "t3lCcC0Pl2eu"
      }
    },
    {
      "cell_type": "markdown",
      "source": [],
      "metadata": {
        "id": "Z_lpeBVAmY_0"
      }
    },
    {
      "cell_type": "code",
      "source": [
        "flist=[]\n",
        "\n",
        "flist.append(\"kiwi\")\n",
        "flist.append(\"apple\")\n",
        "flist.append(\"orange\")\n",
        "flist.append(\"banana\")\n",
        "\n",
        "print(flist)\n",
        "longest_fname=max(flist, key=len)\n",
        "print (\"longest fruit name:\", longest_fname)\n",
        "\n",
        "shortest_fname=min(flist, key=len)\n",
        "print (\"Shortest fruit name:\", shortest_fname)\n",
        "\n",
        "\n",
        "\n",
        "question =input(\"Question: Do you want to sort your list: \").lower().strip()\n",
        "print(question)\n",
        "\n",
        "if question == \"yes\":\n",
        "   print(\"The fruit list is sorted.\")\n",
        "   flist.sort()\n",
        "   print(flist)\n",
        "elif question == \"no\":\n",
        "\n",
        "   print(\"The fruit list remains unsorted.\")\n",
        "   print(flist)\n",
        "\n",
        "else:\n",
        "  print('''invalid input\n",
        "       Try valid input(yes/no)''')"
      ],
      "metadata": {
        "colab": {
          "base_uri": "https://localhost:8080/"
        },
        "id": "wwY2bm-I7FRo",
        "outputId": "b47c930e-2eda-4541-f63a-39416c5e9053"
      },
      "execution_count": null,
      "outputs": [
        {
          "output_type": "stream",
          "name": "stdout",
          "text": [
            "['kiwi', 'apple', 'orange', 'banana']\n",
            "longest fruit name: orange\n",
            "Shortest fruit name: kiwi\n",
            "Question: Do you want to sort your list: No\n",
            "no\n",
            "The fruit list remains unsorted.\n",
            "['kiwi', 'apple', 'orange', 'banana']\n"
          ]
        }
      ]
    },
    {
      "cell_type": "markdown",
      "source": [
        "**Q2:\\\n",
        "Searching in the Fruit List**"
      ],
      "metadata": {
        "id": "ik1wQkUh7qwy"
      }
    },
    {
      "cell_type": "code",
      "source": [
        "print(flist)\n",
        "fname=input(\"Enter name of a fruit: \")\n",
        "if fname in flist:\n",
        "  index=flist.index(fname)\n",
        "  print(f\"Yes, {fname} is in the list at {index + 1} place  [index: {index}]\")\n",
        "\n",
        "else:\n",
        "   fname not in flist\n",
        "   print(f\"No, {fname} is not in the list\")"
      ],
      "metadata": {
        "id": "HOlfHW5W7tI3",
        "colab": {
          "base_uri": "https://localhost:8080/"
        },
        "outputId": "3a901c26-c6ab-47f9-a0e3-083ef6a2fa6e"
      },
      "execution_count": null,
      "outputs": [
        {
          "output_type": "stream",
          "name": "stdout",
          "text": [
            "['kiwi', 'apple', 'orange', 'banana']\n",
            "Enter name of a fruit: Up j\n",
            "No, Up j is not in the list\n"
          ]
        }
      ]
    },
    {
      "cell_type": "markdown",
      "source": [
        "**Q3:\\\n",
        "Name Palindrome Check (String Manipulation)**"
      ],
      "metadata": {
        "id": "SQN82fUL87Fi"
      }
    },
    {
      "cell_type": "code",
      "source": [
        "word=input(\"enter word without space: \").lower().strip()\n",
        "\n",
        "if word==word[::-1]:\n",
        "   print(f\"The word '{word}' is a palindrome\")\n",
        "\n",
        "else:\n",
        "   print(f\"The word '{word}' is not a palindrome\")"
      ],
      "metadata": {
        "id": "t9WrXT7q89Qy",
        "outputId": "c670ade7-d055-409a-f01c-14f120878fc8",
        "colab": {
          "base_uri": "https://localhost:8080/"
        }
      },
      "execution_count": null,
      "outputs": [
        {
          "output_type": "stream",
          "name": "stdout",
          "text": [
            "enter word without space: nun\n",
            "The word 'nun' is a palindrome\n"
          ]
        }
      ]
    },
    {
      "cell_type": "markdown",
      "source": [
        "**Q4:\\\n",
        "Enhanced Number Operations**"
      ],
      "metadata": {
        "id": "wcK1I3GWBkqR"
      }
    },
    {
      "cell_type": "code",
      "source": [
        "\n",
        "\n",
        "numbers = input(\"enter 5 numbers: \")\n",
        "numbers_list = list(map(int, numbers.split()))\n",
        "\n",
        "if len(numbers_list) != 5:\n",
        "    print(\"Please enter exactly 5 numbers separated by spaces.\")\n",
        "else:\n",
        "    print(numbers_list)\n",
        "    biggest_num = max(numbers_list)\n",
        "    smallest_num = min(numbers_list)\n",
        "    print(\"biggest num: \", biggest_num)\n",
        "    print(\"smallest num: \", smallest_num)\n",
        "\n",
        "    product=numbers_list[0] * numbers_list[1] * numbers_list[2] * numbers_list[3] * numbers_list[4]\n",
        "    print(\"product: \", product)"
      ],
      "metadata": {
        "colab": {
          "base_uri": "https://localhost:8080/"
        },
        "id": "o-NgqOw1eYQF",
        "outputId": "10236f0d-865c-4394-aeba-80b671e0f215"
      },
      "execution_count": null,
      "outputs": [
        {
          "output_type": "stream",
          "name": "stdout",
          "text": [
            "enter 5 numbers: 4 7 9 2 4\n",
            "[4, 7, 9, 2, 4]\n",
            "biggest num:  9\n",
            "smallest num:  2\n",
            "product:  2016\n"
          ]
        }
      ]
    }
  ]
}