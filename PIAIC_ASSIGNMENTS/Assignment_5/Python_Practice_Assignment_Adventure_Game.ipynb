{
  "cells": [
    {
      "cell_type": "markdown",
      "metadata": {
        "id": "73z8ELqiDi_V"
      },
      "source": [
        " **Python Practice Assignment: Adventure Game**"
      ]
    },
    {
      "cell_type": "code",
      "execution_count": 44,
      "metadata": {
        "id": "YOQRe1hPcVoj",
        "colab": {
          "base_uri": "https://localhost:8080/"
        },
        "outputId": "0dc02768-1dff-435a-bef0-46518d2b3b72"
      },
      "outputs": [
        {
          "output_type": "stream",
          "name": "stdout",
          "text": [
            "Welcome to the Adventure Game!\n",
            "\n",
            "Available locations : forest, cave, river\n",
            "Where do you want to go?  : cave\n",
            "\n",
            "Heading towards cave\n",
            "Welcome to the cave\n",
            "\n",
            "You have entered a damp cave. It's very cold here.\n",
            "You found a glowing crystal . Do you want to collect it? (yes/no): yes\n",
            "\n",
            "Collecting item.....\n",
            "glowing crystal Collected Successfully  \n",
            "\n",
            "Available locations : forest, river\n",
            "Where do you want to go?  : inventory\n",
            "\n",
            "glowing crystal\n",
            "\n",
            "Available locations : forest, river\n",
            "Where do you want to go?  : river\n",
            "\n",
            "Heading towards river\n",
            "Welcome to the river\n",
            "\n",
            "You are standing by a river. The water is flowing quickly.\n",
            "You found a shiny stone . Do you want to collect it? (yes/no): no\n",
            "\n",
            "You decided not to collect shiny stone... Heading towards next location....\n",
            "\n",
            "Available locations : forest\n",
            "Where do you want to go?  : forest\n",
            "\n",
            "Heading towards forest\n",
            "Welcome to the forest\n",
            "\n",
            "You are in a dark forest. You hear strange noises.\n",
            "You found a wooden stick . Do you want to collect it? (yes/no): no\n",
            "\n",
            "You decided not to collect wooden stick... Heading towards next location....\n",
            "\n",
            "You have visited all locations! Type 'inventory' to view your items or 'quit' to end the game.\n",
            "Where do you want to go?  : quit\n",
            "\n",
            "Goood bye.. you have collected glowing crystal\n"
          ]
        }
      ],
      "source": [
        "# introduction\n",
        "print(\"Welcome to the Adventure Game!\\n\")\n",
        "\n",
        "inventory = []\n",
        "\n",
        "locations = {\n",
        "    \"forest\": \"You are in a dark forest. You hear strange noises.\",\n",
        "    \"cave\": \"You have entered a damp cave. It's very cold here.\",\n",
        "    \"river\": \"You are standing by a river. The water is flowing quickly.\"\n",
        "}\n",
        "\n",
        "items = {\n",
        "    \"forest\": \"wooden stick\",\n",
        "    \"cave\": \"glowing crystal\",\n",
        "    \"river\": \"shiny stone\"\n",
        "}\n",
        "visited_locations = []\n",
        "\n",
        "# game looop starts here\n",
        "\n",
        "while True:\n",
        "  available_keys = [loc for loc in locations if loc not in visited_locations]\n",
        "\n",
        "  if not available_keys:\n",
        "    print(\"You have visited all locations! Type 'inventory' to view your items or 'quit' to end the game.\")\n",
        "  else:\n",
        "    available_locations = \", \".join(available_keys)\n",
        "    print(f\"Available locations : {available_locations}\")\n",
        "\n",
        "  destination = input(f\"Where do you want to go?  : \").lower().strip()\n",
        "\n",
        "# Check if the destination is valid\n",
        "  if destination in locations :\n",
        "    print(f\"\\nHeading towards {destination}\")\n",
        "    print(f\"Welcome to the {destination}\\n\")\n",
        "    print(locations[destination])\n",
        "\n",
        "    visited_locations.append(destination)\n",
        "\n",
        " # Offer the item at the location\n",
        "    question =input(f\"You found a {items[destination]} . Do you want to collect it? (yes/no): \").lower().strip()\n",
        "\n",
        "    if question == \"yes\":\n",
        "      print(\"\\nCollecting item.....\")\n",
        "      print(f\"{items[destination]} Collected Successfully  \\n\")\n",
        "      inventory.append(items[destination])\n",
        "\n",
        "    elif question == \"no\"  :\n",
        "      print(f\"\\nYou decided not to collect {items[destination]}... Heading towards next location....\\n\")\n",
        "\n",
        "    else:\n",
        "      print(\"Invalid input ... input again\\n\")\n",
        "\n",
        "# accessing inventory\n",
        "\n",
        "  elif destination == \"inventory\":\n",
        "    if inventory == []:\n",
        "      print(f\"You have nothing in your inventory\\n\")\n",
        "    else:\n",
        "      print(f\"\\n{', '.join(inventory)}\\n\")\n",
        "\n",
        "# endinh game\n",
        "  elif destination == \"quit\":\n",
        "\n",
        "    if inventory == []:\n",
        "      print(f\"Goood bye.. you have nothing in your inventory\")\n",
        "      break\n",
        "\n",
        "    else:\n",
        "      print(f\"\\nGoood bye.. you have collected {', '.join(inventory)}\")\n",
        "      break\n",
        "\n",
        "# incase of invalid input\n",
        "  else:\n",
        "    print(\"Invalid input ... input again\")\n",
        "\n"
      ]
    }
  ],
  "metadata": {
    "colab": {
      "provenance": []
    },
    "kernelspec": {
      "display_name": "Python 3",
      "name": "python3"
    },
    "language_info": {
      "name": "python"
    }
  },
  "nbformat": 4,
  "nbformat_minor": 0
}