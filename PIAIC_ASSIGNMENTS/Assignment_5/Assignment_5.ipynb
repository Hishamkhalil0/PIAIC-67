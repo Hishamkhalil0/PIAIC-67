{
  "nbformat": 4,
  "nbformat_minor": 0,
  "metadata": {
    "colab": {
      "provenance": [],
      "collapsed_sections": [
        "VJ1mCpYq9P_B",
        "l-dzANljBobK",
        "55QOyYMMGNu-",
        "uR6TeLKkIVZa",
        "2RSjVj2jM6JB",
        "PBH6rsxgAaqY",
        "XsT_ai8ZFQm5"
      ]
    },
    "kernelspec": {
      "name": "python3",
      "display_name": "Python 3"
    },
    "language_info": {
      "name": "python"
    }
  },
  "cells": [
    {
      "cell_type": "markdown",
      "source": [
        "**Hisham Khalil\\\n",
        "PIAIC252246\\\n",
        "Assignment 5**"
      ],
      "metadata": {
        "id": "y8Z_AxvMEY66"
      }
    },
    {
      "cell_type": "markdown",
      "source": [
        "# **Question 1:**"
      ],
      "metadata": {
        "id": "VJ1mCpYq9P_B"
      }
    },
    {
      "cell_type": "markdown",
      "source": [
        "*Ticket Pricing System*"
      ],
      "metadata": {
        "id": "gKlmOoFD9Xin"
      }
    },
    {
      "cell_type": "code",
      "execution_count": null,
      "metadata": {
        "colab": {
          "base_uri": "https://localhost:8080/"
        },
        "id": "7lY5fPQc8QkP",
        "outputId": "48cb333e-0eaf-4b06-a10e-72d0200c31af"
      },
      "outputs": [
        {
          "output_type": "stream",
          "name": "stdout",
          "text": [
            "Please enter your age : 09\n",
            "Your ticket price is $10\n"
          ]
        }
      ],
      "source": [
        "age = int(input(\"Please enter your age : \"))\n",
        "\n",
        "if age < 5:\n",
        "  print(\"congratulations, you can watch movie free of cost\")\n",
        "\n",
        "elif  5 <= age <= 17:\n",
        "  print(\"Your ticket price is $10\")\n",
        "\n",
        "elif 18 <= age <=60:\n",
        "  print(\"Your ticket price is $20\")\n",
        "\n",
        "else:\n",
        "  print(\"Your ticket price is $15 \")"
      ]
    },
    {
      "cell_type": "markdown",
      "source": [
        "# **Question 2:**"
      ],
      "metadata": {
        "id": "l-dzANljBobK"
      }
    },
    {
      "cell_type": "markdown",
      "source": [
        " *Meal Recommendation*"
      ],
      "metadata": {
        "id": "sU3y9k-TBqoY"
      }
    },
    {
      "cell_type": "code",
      "source": [
        "clock = int(input(\"What is the time now?(only hours):\"))\n",
        "meridiem = input(\"Please enter the meridiem(am/pm) :\").lower()\n",
        "\n",
        "if meridiem == \"pm\":\n",
        "  time = clock + 12\n",
        "else :\n",
        "  time = clock\n",
        "\n",
        "print(f\"So... it is {time} o'clock\")\n",
        "\n",
        "if 5 <= time <=11 :\n",
        "  meal = \"Breakfast\"\n",
        "\n",
        "elif 12 <= time <= 16:\n",
        "  meal = \"Lunch\"\n",
        "\n",
        "elif 17 <= time <= 21:\n",
        "  meal = \"Dinner\"\n",
        "\n",
        "else:\n",
        "  meal = \"Late night snacks\"\n",
        "\n",
        "print(f\"its time for {meal}\")\n"
      ],
      "metadata": {
        "colab": {
          "base_uri": "https://localhost:8080/"
        },
        "id": "fZwppHo4Av4N",
        "outputId": "9a3c23f4-ba02-4a0f-ab58-eeaa9d83ed48"
      },
      "execution_count": null,
      "outputs": [
        {
          "output_type": "stream",
          "name": "stdout",
          "text": [
            "What is the time now?(only hours):4\n",
            "Please enter the meridiem(am/pm) :AM\n",
            "So... it is 4 o'clock\n",
            "its time for Late night snacks\n"
          ]
        }
      ]
    },
    {
      "cell_type": "markdown",
      "source": [
        "# **Question 3:**"
      ],
      "metadata": {
        "id": "55QOyYMMGNu-"
      }
    },
    {
      "cell_type": "markdown",
      "source": [
        "*Grocery Bill Calculator*"
      ],
      "metadata": {
        "id": "_gxYfnNSGTW7"
      }
    },
    {
      "cell_type": "code",
      "source": [
        "prices : list = []\n",
        "\n",
        "prices.append(float(input(\"Enter the price of first item :\")))\n",
        "prices.append(float(input(\"Enter the price of second item :\")))\n",
        "prices.append(float(input(\"Enter the price of third item :\")))\n",
        "prices.append(float(input(\"Enter the price of fourth item :\")))\n",
        "prices.append(float(input(\"Enter the price of fifth item :\")))\n",
        "\n",
        "total_bill = sum(prices)\n",
        "print(f\"Total bill is {total_bill}$\")\n",
        "\n",
        "if total_bill >= 100 :\n",
        "  print(\"CONGRATULATIONS.... YOU GOT 10% DISCOUNT. \")\n",
        "  grand_total = total_bill - (total_bill * 0.10)\n",
        "\n",
        "else:\n",
        "  print(\"SORRYY.... YOU re not eligible for DISCOUNT. \")\n",
        "  grand_total = total_bill\n",
        "\n",
        "print(f\"Your grand total is {grand_total}\")"
      ],
      "metadata": {
        "colab": {
          "base_uri": "https://localhost:8080/"
        },
        "id": "B-phgMLpDTBM",
        "outputId": "869d3395-e9bf-452e-defe-2bef67dc88fd"
      },
      "execution_count": null,
      "outputs": [
        {
          "output_type": "stream",
          "name": "stdout",
          "text": [
            "Enter the price of first item :23 \n",
            "Enter the price of second item :34\n",
            "Enter the price of third item :45\n",
            "Enter the price of fourth item :45\n",
            "Enter the price of fifth item :24\n",
            "Total bill is 171.0$\n",
            "CONGRATULATIONS.... YOU GOT 10% DISCOUNT. \n",
            "Your grand total is 153.9\n"
          ]
        }
      ]
    },
    {
      "cell_type": "markdown",
      "source": [
        "# **Question 4:**"
      ],
      "metadata": {
        "id": "uR6TeLKkIVZa"
      }
    },
    {
      "cell_type": "markdown",
      "source": [
        "*Username Validator*"
      ],
      "metadata": {
        "id": "jTd3KETXIZ5H"
      }
    },
    {
      "cell_type": "code",
      "source": [
        "user_name = input(\" Enter your user name :\")\n",
        "print(f\"User name contain {len(user_name)} letters \")\n",
        "userlen = len(user_name)\n",
        "if  5 <= userlen <= 15 and user_name.isalpha():\n",
        "\n",
        "  print(\"The username you entered is valid \")\n",
        "else:\n",
        "  print(\"\"\"The username you entered is invalid\n",
        "       Please make sure your username contain only 5-15 letters\n",
        "       Numbers are not allowed\"\"\")"
      ],
      "metadata": {
        "colab": {
          "base_uri": "https://localhost:8080/"
        },
        "id": "vKP11JSWG0tR",
        "outputId": "61772e70-f88d-4e1f-d58f-9558396f9bb4"
      },
      "execution_count": null,
      "outputs": [
        {
          "output_type": "stream",
          "name": "stdout",
          "text": [
            " Enter your user name :jbuu8\n",
            "User name contain 5 letters \n",
            "The username you entered is invalid \n",
            "       Please make sure your username contain only 5-15 letters \n",
            "       Numbers are not allowed\n"
          ]
        }
      ]
    },
    {
      "cell_type": "markdown",
      "source": [
        "# **Question 5:**"
      ],
      "metadata": {
        "id": "2RSjVj2jM6JB"
      }
    },
    {
      "cell_type": "markdown",
      "source": [
        "*Travel Destination Suggestion*"
      ],
      "metadata": {
        "id": "D33iJwleNSCU"
      }
    },
    {
      "cell_type": "code",
      "source": [
        "preferred_weather = input(\"Please enter your preferred weather condition(Sunny, Rainy, or Snowy) :\").lower()\n",
        "\n",
        "if preferred_weather == \"sunny\":\n",
        "  print(\" YOU SHOULD Go to the beach\")\n",
        "elif preferred_weather == \"rainy\":\n",
        "  print(\"You should Visit a cozy mountain lodge!\")\n",
        "elif preferred_weather== \"snowy\" :\n",
        "  print(\"Its Time for a ski trip!\")\n",
        "else:\n",
        "  print(\"invalid input please choose one of the suggestions\")"
      ],
      "metadata": {
        "colab": {
          "base_uri": "https://localhost:8080/"
        },
        "id": "ZyEd9OafNost",
        "outputId": "31ba4ae7-2d23-41ed-fafd-603a224785f1"
      },
      "execution_count": null,
      "outputs": [
        {
          "output_type": "stream",
          "name": "stdout",
          "text": [
            "Please enter your preferred weather condition(Sunny, Rainy, or Snowy) :snowy\n",
            "Its Time for a ski trip!\n"
          ]
        }
      ]
    },
    {
      "cell_type": "markdown",
      "source": [
        "# **Question 6**"
      ],
      "metadata": {
        "id": "PBH6rsxgAaqY"
      }
    },
    {
      "cell_type": "markdown",
      "source": [
        "*Discount Eligibility Checker*"
      ],
      "metadata": {
        "id": "8X1JZNXzAk1D"
      }
    },
    {
      "cell_type": "code",
      "source": [
        "bill = int(input(\"The amount you spend : \"))\n",
        "if bill >= 200 :\n",
        "  question = input(\"Are you the  member of store’s loyalty program? (yes/no) : \").lower()\n",
        "  if question == \"yes\" :\n",
        "    print(\"CONGRATULATIONS......YOU GOT 10% DISCOUNT\")\n",
        "    finalbill = bill - (bill * 0.10)\n",
        "    print(f\"your total bill is {finalbill}$\")\n",
        "  else:\n",
        "    print(f\"\"\"AS YOU ARE NOT MEMBER OF STORES'S LOYALITY PROGRAM\n",
        "       YOU CANT GET DISCOUNT\n",
        "       you total bill is {bill}$\"\"\")\n",
        "else:\n",
        "    print(f\"YOUR TOTAL BILL IS {bill}$\")"
      ],
      "metadata": {
        "colab": {
          "base_uri": "https://localhost:8080/"
        },
        "id": "cGVX-JWOAiTi",
        "outputId": "6f996471-f49e-4113-b7f2-a6a238a7ff8d"
      },
      "execution_count": null,
      "outputs": [
        {
          "output_type": "stream",
          "name": "stdout",
          "text": [
            "The amount you spend : 300\n",
            "Are you the  member of store’s loyalty program? (yes/no) : yes\n",
            "CONGRATULATIONS......YOU GOT 10% DISCOUNT\n",
            "your total bill is 270.0$\n"
          ]
        }
      ]
    },
    {
      "cell_type": "markdown",
      "source": [
        "# **Question 7**"
      ],
      "metadata": {
        "id": "XsT_ai8ZFQm5"
      }
    },
    {
      "cell_type": "markdown",
      "source": [
        "*Event* *Invitation*"
      ],
      "metadata": {
        "id": "gE32g_mwFT8f"
      }
    },
    {
      "cell_type": "code",
      "source": [
        "guestlist : list = []\n",
        "\n",
        "guestlist.append(input(\"Enter the name of first guest : \"))\n",
        "guestlist.append(input(\"Enter the name of second guest : \"))\n",
        "guestlist.append(input(\"Enter the name of third guest : \"))\n",
        "guestlist.append(input(\"Enter the name of fourth guest : \"))\n",
        "guestlist.append(input(\"Enter the name of fifth guest : \"))\n",
        "\n",
        "guest = input(\"enter guest name you want to confirm whether the user is invited or not : \")\n",
        "\n",
        "if guest in guestlist:\n",
        "  print(f\"{guest} is invited\")\n",
        "else:\n",
        "  print(f\"{guest} is not invited\")"
      ],
      "metadata": {
        "colab": {
          "base_uri": "https://localhost:8080/"
        },
        "id": "t0bQGiUQBUI5",
        "outputId": "21c1c6e5-b705-4144-b3b7-199de92972b0"
      },
      "execution_count": null,
      "outputs": [
        {
          "output_type": "stream",
          "name": "stdout",
          "text": [
            "Enter the name of first guest : hisham\n",
            "Enter the name of second guest : khalil\n",
            "Enter the name of third guest : maryam\n",
            "Enter the name of fourth guest : javeria\n",
            "Enter the name of fifth guest : hareem\n",
            "enter guest name you want to confirm whether the user is invited or not : hareem\n",
            "hareem is not invited\n"
          ]
        }
      ]
    },
    {
      "cell_type": "markdown",
      "source": [
        "# **Question 8:**"
      ],
      "metadata": {
        "id": "ZPR--hdgHMQc"
      }
    },
    {
      "cell_type": "markdown",
      "source": [
        "*Movie Streaming Eligibility*"
      ],
      "metadata": {
        "id": "hY7BUf0AHOVH"
      }
    },
    {
      "cell_type": "code",
      "source": [
        "movietype : dict = dict({1: \"Action Movies\", 2: \"Documentaries\", 3: \"Anime\"})\n",
        "# print(movietype)\n",
        "\n",
        "print(\"Enter 1 for Action movies... \")\n",
        "print(\"Enter 2 for Documentaries... \")\n",
        "print(\"Enter 3 for Anime...\")\n",
        "\n",
        "movie = int(input(\"Enter your movie type (1,2,3):\"))\n",
        "\n",
        "\n",
        "if movie in movietype:\n",
        "  yourmovie = movietype[movie]\n",
        "  print(f\"You want to watch {yourmovie}\")\n",
        "  age = int(input(\"Enter your age :\"))\n",
        "\n",
        "  if  yourmovie == \"Action Movies\":\n",
        "    if  age >= 18:\n",
        "      print(f\"You can watch {yourmovie}...\")\n",
        "\n",
        "    else:\n",
        "      print(f\"You can not watch {yourmovie}...\")\n",
        "\n",
        "  elif yourmovie == \"Documentaries\":\n",
        "    if age >= 13:\n",
        "      print(f\"You can watch {yourmovie}...\")\n",
        "\n",
        "    else:\n",
        "      print(f\"You can not watch {yourmovie}...\")\n",
        "\n",
        "  else :\n",
        "    print(\"You can watch anime...\")\n",
        "\n",
        "else :\n",
        "  print(\"Invalid movie type selected.\")\n",
        "\n"
      ],
      "metadata": {
        "colab": {
          "base_uri": "https://localhost:8080/"
        },
        "id": "FL44UXEBFsEc",
        "outputId": "5e7427b6-4a64-48b3-e6a3-6d85188e3464"
      },
      "execution_count": null,
      "outputs": [
        {
          "output_type": "stream",
          "name": "stdout",
          "text": [
            "Enter 1 for Action movies... \n",
            "Enter 2 for Documentaries... \n",
            "Enter 3 for Anime...\n",
            "Enter your movie type (1,2,3):1\n",
            "You want to watch Action Movies\n",
            "Enter your age :19\n",
            "You can watch Action Movies...\n"
          ]
        }
      ]
    },
    {
      "cell_type": "markdown",
      "source": [
        "# **Question 9**"
      ],
      "metadata": {
        "id": "VZ46A3WXLGr9"
      }
    },
    {
      "cell_type": "markdown",
      "source": [
        "*Phone Number Formatter*"
      ],
      "metadata": {
        "id": "j9jkIkZ2LvYs"
      }
    },
    {
      "cell_type": "code",
      "source": [
        "number = input(\"Enter your 11 digits phone number :\").strip()\n",
        "\n",
        "if len(number) == 11 and number.isdigit():\n",
        "  altnumber = f\"{number[0:4]}-{number[4:]}\"\n",
        "  print(altnumber)\n",
        "else:\n",
        "  print(\"Invalid phone number\")"
      ],
      "metadata": {
        "colab": {
          "base_uri": "https://localhost:8080/"
        },
        "id": "-Ij1NxFgIFrV",
        "outputId": "6a191692-7225-42b3-a868-b0ed3f5f2939"
      },
      "execution_count": 1,
      "outputs": [
        {
          "output_type": "stream",
          "name": "stdout",
          "text": [
            "Enter your 11 digits phone number :03350665737\n",
            "0335-0665737\n"
          ]
        }
      ]
    },
    {
      "cell_type": "markdown",
      "source": [
        "# **Question 10:**"
      ],
      "metadata": {
        "id": "yjcLLC8ubtql"
      }
    },
    {
      "cell_type": "markdown",
      "source": [
        "*Package Shipping Cost*"
      ],
      "metadata": {
        "id": "SbGdZlZPccdE"
      }
    },
    {
      "cell_type": "code",
      "source": [
        "weight = int(input(' Enter weight of the package : '))\n",
        "\n",
        "if weight <= 1 :\n",
        "  shipping_cost = 5\n",
        "  print(f\"The shipping cost is {shipping_cost}$\")\n",
        "\n",
        "elif 1 < weight <= 5 :\n",
        "  shipping_cost = 10\n",
        "  print(f\"The shipping cost is {shipping_cost}$\")\n",
        "\n",
        "elif  5 < weight <= 20 :\n",
        "  shipping_cost = 20\n",
        "  print(f\"The shipping cost is {shipping_cost}$\")\n",
        "\n",
        "else :\n",
        "  shipping_cost = 50\n",
        "  print(f\"The shipping cost is {shipping_cost}$\")\n",
        "\n"
      ],
      "metadata": {
        "id": "cfSHJNcdJV-b",
        "colab": {
          "base_uri": "https://localhost:8080/"
        },
        "outputId": "80a3ffdf-e8f2-4766-85e3-08ac35f370be"
      },
      "execution_count": null,
      "outputs": [
        {
          "output_type": "stream",
          "name": "stdout",
          "text": [
            " Enter weight of the package : 23\n",
            "The shipping cost is 50$\n"
          ]
        }
      ]
    },
    {
      "cell_type": "markdown",
      "source": [
        "# **Question 11:**"
      ],
      "metadata": {
        "id": "8IoxiXXSfzko"
      }
    },
    {
      "cell_type": "markdown",
      "source": [
        "*Student Grading System*"
      ],
      "metadata": {
        "id": "9jsbPFUbf27V"
      }
    },
    {
      "cell_type": "code",
      "source": [
        "markl = []\n",
        "\n",
        "markl.append(int(input(\"Enter the mark of first subject :\")))\n",
        "markl.append(int(input(\"Enter the mark of second subject :\")))\n",
        "markl.append(int(input(\"Enter the mark of third subject :\")))\n",
        "markl.append(int(input(\"Enter the mark of fourth subject :\")))\n",
        "markl.append(int(input(\"Enter the mark of fifth subject :\")))\n",
        "\n",
        "total_mark = sum(markl)\n",
        "print(f\"Total marks =  {total_mark}\")\n",
        "percentage = (total_mark/500)* 100\n",
        "print(f\"Percentage =  {percentage}\")\n",
        "\n",
        "# student will pass only if he got over 60 in every subject\n",
        "if (\n",
        "    markl[0] >= 60,\n",
        "    markl[1] >= 60 ,\n",
        "    markl[2] >= 60 ,\n",
        "    markl[3] >= 60 ,\n",
        "    markl[4] >= 60):\n",
        "    print(\"You passed\")\n",
        "\n",
        "#  assigning grades acc to percentage\n",
        "    if percentage >= 90:\n",
        "      grade = \"A\"\n",
        "      print(f\"Your grade = {grade}\")\n",
        "\n",
        "    elif 80 <= percentage < 90:\n",
        "      grade = \"B\"\n",
        "      print(f\"Your grade = {grade}\")\n",
        "\n",
        "    elif 70 <= percentage < 80:\n",
        "      grade = \"C\"\n",
        "      print(f\"Your grade = {grade}\")\n",
        "\n",
        "    else:\n",
        "      grade = \"D\"\n",
        "      print(f\"Your grade = {grade}\")\n",
        "# below 60 marks in any subject will lwad him to failure\n",
        "else:\n",
        "    print(\"You Failed\")"
      ],
      "metadata": {
        "id": "LttGFTb_hCUQ",
        "colab": {
          "base_uri": "https://localhost:8080/"
        },
        "outputId": "7bd46b4f-9987-40e4-d026-478d1f6c6327"
      },
      "execution_count": null,
      "outputs": [
        {
          "output_type": "stream",
          "name": "stdout",
          "text": [
            "Enter the mark of first subject :98\n",
            "Enter the mark of second subject :78\n",
            "Enter the mark of third subject :87\n",
            "Enter the mark of fourth subject :67\n",
            "Enter the mark of fifth subject :99\n",
            "Total marks =  429\n",
            "Percentage =  85.8\n",
            "You passed\n",
            "Your grade = B\n"
          ]
        }
      ]
    },
    {
      "cell_type": "code",
      "source": [
        "6"
      ],
      "metadata": {
        "id": "9nbPGbXFoZL2"
      },
      "execution_count": null,
      "outputs": []
    }
  ]
}